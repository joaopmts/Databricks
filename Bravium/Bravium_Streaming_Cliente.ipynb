{
 "cells": [
  {
   "cell_type": "code",
   "execution_count": 0,
   "metadata": {
    "application/vnd.databricks.v1+cell": {
     "cellMetadata": {
      "byteLimit": 2048000,
      "rowLimit": 10000
     },
     "inputWidgets": {},
     "nuid": "591ce388-cf38-4ebd-a9a1-234eae496111",
     "showTitle": false,
     "tableResultSettingsMap": {},
     "title": ""
    }
   },
   "outputs": [],
   "source": [
    "from delta.tables import DeltaTable\n",
    "from pyspark.sql.types import StructType, StructField, StringType, DoubleType, TimestampType\n",
    "import time\n",
    "import os\n",
    "\n",
    "schema_cliente = StructType([\n",
    "    StructField(\"cliente_id\", StringType(), True),\n",
    "    StructField(\"nome\", StringType(), True), \n",
    "    StructField(\"estado\", StringType(), True),\n",
    "    StructField(\"data_criacao\", TimestampType(), True),\n",
    "])\n",
    "\n",
    "parquet_path = \"/Volumes/workspace/bravium/bravium_db/cliente/\"\n",
    "bronze_path = \"/Volumes/workspace/bravium/bronze/cliente/\""
   ]
  },
  {
   "cell_type": "code",
   "execution_count": 0,
   "metadata": {
    "application/vnd.databricks.v1+cell": {
     "cellMetadata": {},
     "inputWidgets": {},
     "nuid": "c05933ea-25a1-4c0a-a2a6-73fcd9c81ef4",
     "showTitle": false,
     "tableResultSettingsMap": {},
     "title": ""
    }
   },
   "outputs": [],
   "source": [
    "df_stream = (\n",
    "    spark.readStream\n",
    "    .format(\"parquet\")\n",
    "    .schema(schema_cliente)\n",
    "    .load(parquet_path)\n",
    ")\n",
    "\n",
    "df_stream = (\n",
    "    df_stream.dropDuplicates([\"cliente_id\", \"data_criacao\"])\n",
    "             .withWatermark(\"data_criacao\", \"10 minutes\")\n",
    ")"
   ]
  },
  {
   "cell_type": "code",
   "execution_count": 0,
   "metadata": {
    "application/vnd.databricks.v1+cell": {
     "cellMetadata": {},
     "inputWidgets": {},
     "nuid": "a263d344-c2ae-404d-ae35-5ddd23d2c467",
     "showTitle": false,
     "tableResultSettingsMap": {},
     "title": ""
    }
   },
   "outputs": [],
   "source": [
    "def upsert_to_delta(batch_df, batch_id):\n",
    "    delta_table = DeltaTable.forPath(spark, bronze_path)\n",
    "\n",
    "    (\n",
    "        delta_table.alias(\"t\")\n",
    "        .merge(\n",
    "            batch_df.alias(\"s\"),\n",
    "            \"t.cliente_id = s.cliente_id\"\n",
    "        )\n",
    "        .whenMatchedUpdateAll()\n",
    "        .whenNotMatchedInsertAll()\n",
    "        .execute()\n",
    "    )\n",
    "\n",
    "(\n",
    "    df_stream.writeStream\n",
    "    .foreachBatch(upsert_to_delta)\n",
    "    .option(\"checkpointLocation\", \"/Volumes/workspace/bravium/bronze/checkpoints/cliente\")\n",
    "    .outputMode(\"update\")\n",
    "    .trigger(availableNow=True)\n",
    "    .start()\n",
    "    .awaitTermination()\n",
    ")"
   ]
  }
 ],
 "metadata": {
  "application/vnd.databricks.v1+notebook": {
   "computePreferences": null,
   "dashboards": [],
   "environmentMetadata": {
    "base_environment": "",
    "environment_version": "3"
   },
   "inputWidgetPreferences": null,
   "language": "python",
   "notebookMetadata": {
    "pythonIndentUnit": 4
   },
   "notebookName": "Bravium_Streaming_Cliente",
   "widgets": {}
  },
  "language_info": {
   "name": "python"
  }
 },
 "nbformat": 4,
 "nbformat_minor": 0
}
