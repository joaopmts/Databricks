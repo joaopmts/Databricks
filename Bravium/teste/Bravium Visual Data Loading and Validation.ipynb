{
 "cells": [
  {
   "cell_type": "code",
   "execution_count": 0,
   "metadata": {
    "application/vnd.databricks.v1+cell": {
     "cellMetadata": {
      "byteLimit": 2048000,
      "rowLimit": 10000
     },
     "inputWidgets": {},
     "nuid": "3f0a3dff-05f3-48f9-b688-4070c6c893ac",
     "showTitle": false,
     "tableResultSettingsMap": {},
     "title": ""
    }
   },
   "outputs": [
    {
     "output_type": "display_data",
     "data": {
      "text/html": [
       "<style scoped>\n",
       "  .table-result-container {\n",
       "    max-height: 300px;\n",
       "    overflow: auto;\n",
       "  }\n",
       "  table, th, td {\n",
       "    border: 1px solid black;\n",
       "    border-collapse: collapse;\n",
       "  }\n",
       "  th, td {\n",
       "    padding: 5px;\n",
       "  }\n",
       "  th {\n",
       "    text-align: left;\n",
       "  }\n",
       "</style><div class='table-result-container'><table class='table-result'><thead style='background-color: white'><tr><th>transacao_id</th><th>timestamp</th><th>cliente_id</th><th>valor</th><th>status</th></tr></thead><tbody><tr><td>fdd11398-9a59-4855-9838-f9dcb6fb14c9</td><td>2025-09-28T21:33:43.232Z</td><td>ba0995cd-44b7-49f3-bee1-56dcfdee8bf1</td><td>376.02</td><td>CANCELADO</td></tr><tr><td>5962d130-2c45-4715-b17a-768d46f65802</td><td>2025-09-28T21:33:43.232Z</td><td>296cca9b-afb8-41d3-b153-1cd122ac304e</td><td>32.16</td><td>PENDENTE</td></tr><tr><td>0a9d773a-031f-4e24-a97a-6fb2ce1b8c24</td><td>2025-09-28T21:33:43.232Z</td><td>da1004fa-b45f-4ec3-ba7f-adfe890164d7</td><td>314.9</td><td>APROVADO</td></tr><tr><td>7a165210-35fd-42e0-b392-004b2b59f243</td><td>2025-09-28T21:33:43.232Z</td><td>da1004fa-b45f-4ec3-ba7f-adfe890164d7</td><td>274.58</td><td>APROVADO</td></tr><tr><td>e2750046-ba23-4aaa-8142-bad7e0a11364</td><td>2025-09-28T21:33:43.232Z</td><td>296cca9b-afb8-41d3-b153-1cd122ac304e</td><td>431.29</td><td>APROVADO</td></tr></tbody></table></div>"
      ]
     },
     "metadata": {
      "application/vnd.databricks.v1+output": {
       "addedWidgets": {},
       "aggData": [],
       "aggError": "",
       "aggOverflow": false,
       "aggSchema": [],
       "aggSeriesLimitReached": false,
       "aggType": "",
       "arguments": {},
       "columnCustomDisplayInfos": {},
       "data": [
        [
         "fdd11398-9a59-4855-9838-f9dcb6fb14c9",
         "2025-09-28T21:33:43.232Z",
         "ba0995cd-44b7-49f3-bee1-56dcfdee8bf1",
         376.02,
         "CANCELADO"
        ],
        [
         "5962d130-2c45-4715-b17a-768d46f65802",
         "2025-09-28T21:33:43.232Z",
         "296cca9b-afb8-41d3-b153-1cd122ac304e",
         32.16,
         "PENDENTE"
        ],
        [
         "0a9d773a-031f-4e24-a97a-6fb2ce1b8c24",
         "2025-09-28T21:33:43.232Z",
         "da1004fa-b45f-4ec3-ba7f-adfe890164d7",
         314.9,
         "APROVADO"
        ],
        [
         "7a165210-35fd-42e0-b392-004b2b59f243",
         "2025-09-28T21:33:43.232Z",
         "da1004fa-b45f-4ec3-ba7f-adfe890164d7",
         274.58,
         "APROVADO"
        ],
        [
         "e2750046-ba23-4aaa-8142-bad7e0a11364",
         "2025-09-28T21:33:43.232Z",
         "296cca9b-afb8-41d3-b153-1cd122ac304e",
         431.29,
         "APROVADO"
        ]
       ],
       "datasetInfos": [],
       "dbfsResultPath": null,
       "isJsonSchema": true,
       "metadata": {},
       "overflow": false,
       "plotOptions": {
        "customPlotOptions": {},
        "displayType": "table",
        "pivotAggregation": null,
        "pivotColumns": null,
        "xColumns": null,
        "yColumns": null
       },
       "removedWidgets": [],
       "schema": [
        {
         "metadata": "{}",
         "name": "transacao_id",
         "type": "\"string\""
        },
        {
         "metadata": "{}",
         "name": "timestamp",
         "type": "\"timestamp\""
        },
        {
         "metadata": "{}",
         "name": "cliente_id",
         "type": "\"string\""
        },
        {
         "metadata": "{}",
         "name": "valor",
         "type": "\"double\""
        },
        {
         "metadata": "{}",
         "name": "status",
         "type": "\"string\""
        }
       ],
       "type": "table"
      }
     },
     "output_type": "display_data"
    },
    {
     "output_type": "display_data",
     "data": {
      "text/html": [
       "<style scoped>\n",
       "  .table-result-container {\n",
       "    max-height: 300px;\n",
       "    overflow: auto;\n",
       "  }\n",
       "  table, th, td {\n",
       "    border: 1px solid black;\n",
       "    border-collapse: collapse;\n",
       "  }\n",
       "  th, td {\n",
       "    padding: 5px;\n",
       "  }\n",
       "  th {\n",
       "    text-align: left;\n",
       "  }\n",
       "</style><div class='table-result-container'><table class='table-result'><thead style='background-color: white'><tr><th>transacao_id</th><th>timestamp</th><th>cliente_id</th><th>valor</th><th>status</th></tr></thead><tbody><tr><td>fdd11398-9a59-4855-9838-f9dcb6fb14c9</td><td>2025-09-28T21:33:43.232Z</td><td>ba0995cd-44b7-49f3-bee1-56dcfdee8bf1</td><td>376.02</td><td>CANCELADO</td></tr><tr><td>5962d130-2c45-4715-b17a-768d46f65802</td><td>2025-09-28T21:33:43.232Z</td><td>296cca9b-afb8-41d3-b153-1cd122ac304e</td><td>32.16</td><td>PENDENTE</td></tr><tr><td>0a9d773a-031f-4e24-a97a-6fb2ce1b8c24</td><td>2025-09-28T21:33:43.232Z</td><td>da1004fa-b45f-4ec3-ba7f-adfe890164d7</td><td>314.9</td><td>APROVADO</td></tr><tr><td>7a165210-35fd-42e0-b392-004b2b59f243</td><td>2025-09-28T21:33:43.232Z</td><td>da1004fa-b45f-4ec3-ba7f-adfe890164d7</td><td>274.58</td><td>APROVADO</td></tr><tr><td>e2750046-ba23-4aaa-8142-bad7e0a11364</td><td>2025-09-28T21:33:43.232Z</td><td>296cca9b-afb8-41d3-b153-1cd122ac304e</td><td>431.29</td><td>APROVADO</td></tr></tbody></table></div>"
      ]
     },
     "metadata": {
      "application/vnd.databricks.v1+output": {
       "addedWidgets": {},
       "aggData": [],
       "aggError": "",
       "aggOverflow": false,
       "aggSchema": [],
       "aggSeriesLimitReached": false,
       "aggType": "",
       "arguments": {},
       "columnCustomDisplayInfos": {},
       "data": [
        [
         "fdd11398-9a59-4855-9838-f9dcb6fb14c9",
         "2025-09-28T21:33:43.232Z",
         "ba0995cd-44b7-49f3-bee1-56dcfdee8bf1",
         376.02,
         "CANCELADO"
        ],
        [
         "5962d130-2c45-4715-b17a-768d46f65802",
         "2025-09-28T21:33:43.232Z",
         "296cca9b-afb8-41d3-b153-1cd122ac304e",
         32.16,
         "PENDENTE"
        ],
        [
         "0a9d773a-031f-4e24-a97a-6fb2ce1b8c24",
         "2025-09-28T21:33:43.232Z",
         "da1004fa-b45f-4ec3-ba7f-adfe890164d7",
         314.9,
         "APROVADO"
        ],
        [
         "7a165210-35fd-42e0-b392-004b2b59f243",
         "2025-09-28T21:33:43.232Z",
         "da1004fa-b45f-4ec3-ba7f-adfe890164d7",
         274.58,
         "APROVADO"
        ],
        [
         "e2750046-ba23-4aaa-8142-bad7e0a11364",
         "2025-09-28T21:33:43.232Z",
         "296cca9b-afb8-41d3-b153-1cd122ac304e",
         431.29,
         "APROVADO"
        ]
       ],
       "datasetInfos": [],
       "dbfsResultPath": null,
       "isJsonSchema": true,
       "metadata": {},
       "overflow": false,
       "plotOptions": {
        "customPlotOptions": {},
        "displayType": "table",
        "pivotAggregation": null,
        "pivotColumns": null,
        "xColumns": null,
        "yColumns": null
       },
       "removedWidgets": [],
       "schema": [
        {
         "metadata": "{}",
         "name": "transacao_id",
         "type": "\"string\""
        },
        {
         "metadata": "{}",
         "name": "timestamp",
         "type": "\"timestamp\""
        },
        {
         "metadata": "{}",
         "name": "cliente_id",
         "type": "\"string\""
        },
        {
         "metadata": "{}",
         "name": "valor",
         "type": "\"double\""
        },
        {
         "metadata": "{}",
         "name": "status",
         "type": "\"string\""
        }
       ],
       "type": "table"
      }
     },
     "output_type": "display_data"
    },
    {
     "output_type": "display_data",
     "data": {
      "text/html": [
       "<style scoped>\n",
       "  .table-result-container {\n",
       "    max-height: 300px;\n",
       "    overflow: auto;\n",
       "  }\n",
       "  table, th, td {\n",
       "    border: 1px solid black;\n",
       "    border-collapse: collapse;\n",
       "  }\n",
       "  th, td {\n",
       "    padding: 5px;\n",
       "  }\n",
       "  th {\n",
       "    text-align: left;\n",
       "  }\n",
       "</style><div class='table-result-container'><table class='table-result'><thead style='background-color: white'><tr><th>transacao_id</th><th>timestamp</th><th>cliente_id</th><th>valor</th><th>status</th></tr></thead><tbody><tr><td>fdd11398-9a59-4855-9838-f9dcb6fb14c9</td><td>2025-09-28T21:33:43.232Z</td><td>ba0995cd-44b7-49f3-bee1-56dcfdee8bf1</td><td>376.02</td><td>CANCELADO</td></tr><tr><td>7a165210-35fd-42e0-b392-004b2b59f243</td><td>2025-09-28T21:33:43.232Z</td><td>da1004fa-b45f-4ec3-ba7f-adfe890164d7</td><td>274.58</td><td>APROVADO</td></tr><tr><td>0a9d773a-031f-4e24-a97a-6fb2ce1b8c24</td><td>2025-09-28T21:33:43.232Z</td><td>da1004fa-b45f-4ec3-ba7f-adfe890164d7</td><td>314.9</td><td>APROVADO</td></tr><tr><td>e2750046-ba23-4aaa-8142-bad7e0a11364</td><td>2025-09-28T21:33:43.232Z</td><td>296cca9b-afb8-41d3-b153-1cd122ac304e</td><td>431.29</td><td>APROVADO</td></tr><tr><td>5962d130-2c45-4715-b17a-768d46f65802</td><td>2025-09-28T21:33:43.232Z</td><td>296cca9b-afb8-41d3-b153-1cd122ac304e</td><td>32.16</td><td>PENDENTE</td></tr></tbody></table></div>"
      ]
     },
     "metadata": {
      "application/vnd.databricks.v1+output": {
       "addedWidgets": {},
       "aggData": [],
       "aggError": "",
       "aggOverflow": false,
       "aggSchema": [],
       "aggSeriesLimitReached": false,
       "aggType": "",
       "arguments": {},
       "columnCustomDisplayInfos": {},
       "data": [
        [
         "fdd11398-9a59-4855-9838-f9dcb6fb14c9",
         "2025-09-28T21:33:43.232Z",
         "ba0995cd-44b7-49f3-bee1-56dcfdee8bf1",
         376.02,
         "CANCELADO"
        ],
        [
         "7a165210-35fd-42e0-b392-004b2b59f243",
         "2025-09-28T21:33:43.232Z",
         "da1004fa-b45f-4ec3-ba7f-adfe890164d7",
         274.58,
         "APROVADO"
        ],
        [
         "0a9d773a-031f-4e24-a97a-6fb2ce1b8c24",
         "2025-09-28T21:33:43.232Z",
         "da1004fa-b45f-4ec3-ba7f-adfe890164d7",
         314.9,
         "APROVADO"
        ],
        [
         "e2750046-ba23-4aaa-8142-bad7e0a11364",
         "2025-09-28T21:33:43.232Z",
         "296cca9b-afb8-41d3-b153-1cd122ac304e",
         431.29,
         "APROVADO"
        ],
        [
         "5962d130-2c45-4715-b17a-768d46f65802",
         "2025-09-28T21:33:43.232Z",
         "296cca9b-afb8-41d3-b153-1cd122ac304e",
         32.16,
         "PENDENTE"
        ]
       ],
       "datasetInfos": [],
       "dbfsResultPath": null,
       "isJsonSchema": true,
       "metadata": {},
       "overflow": false,
       "plotOptions": {
        "customPlotOptions": {},
        "displayType": "table",
        "pivotAggregation": null,
        "pivotColumns": null,
        "xColumns": null,
        "yColumns": null
       },
       "removedWidgets": [],
       "schema": [
        {
         "metadata": "{}",
         "name": "transacao_id",
         "type": "\"string\""
        },
        {
         "metadata": "{}",
         "name": "timestamp",
         "type": "\"timestamp\""
        },
        {
         "metadata": "{}",
         "name": "cliente_id",
         "type": "\"string\""
        },
        {
         "metadata": "{}",
         "name": "valor",
         "type": "\"double\""
        },
        {
         "metadata": "{}",
         "name": "status",
         "type": "\"string\""
        }
       ],
       "type": "table"
      }
     },
     "output_type": "display_data"
    }
   ],
   "source": [
    "df_tran = spark.read.format(\"parquet\").load(\"/Volumes/workspace/bravium/bravium_db/transacao/\")\n",
    "bronze_tran = spark.read.format(\"delta\").load(\"/Volumes/workspace/bravium/bronze/transacao/\")\n",
    "silver_tran = spark.read.format(\"delta\").load(\"/Volumes/workspace/bravium/silver/transacao/\")\n",
    "\n",
    "display(df_tran)\n",
    "display(bronze_tran)\n",
    "display(silver_tran)\n",
    "#display(bronze_tran.filter(bronze_tran.transacao_id == '9b4fca8c-f970-4731-ac5d-46fe2868784a'))\n",
    "#display(silver_tran.filter(silver_tran.transacao_id == '9b4fca8c-f970-4731-ac5d-46fe2868784a'))"
   ]
  },
  {
   "cell_type": "code",
   "execution_count": 0,
   "metadata": {
    "application/vnd.databricks.v1+cell": {
     "cellMetadata": {
      "byteLimit": 2048000,
      "rowLimit": 10000
     },
     "inputWidgets": {},
     "nuid": "bb8208c0-9e4c-4c0d-97ea-eb22f58c37b8",
     "showTitle": false,
     "tableResultSettingsMap": {},
     "title": ""
    }
   },
   "outputs": [],
   "source": [
    "from pyspark.sql import SparkSession\n",
    "from pyspark.sql.types import StructType, StructField, StringType, DoubleType, TimestampType\n",
    "from datetime import datetime\n",
    "\n",
    "schema_transacoes = StructType([\n",
    "    StructField(\"transacao_id\", StringType(), True),\n",
    "    StructField(\"timestamp\", TimestampType(), True),\n",
    "    StructField(\"cliente_id\", StringType(), True),\n",
    "    StructField(\"valor\", DoubleType(), True),\n",
    "    StructField(\"status\", StringType(), True)\n",
    "])\n",
    "\n",
    "data = [(\n",
    "    \"fdd11398-9a59-4855-9838-f9dcb6fb14c9\",\n",
    "    datetime.fromisoformat(\"2025-09-28T18:41:15.681+00:00\"),\n",
    "    \"7597e9cd-9c37-42a3-a977-1d62806436bf\",\n",
    "    756.15,\n",
    "    \"APROVADO\"\n",
    ")]\n",
    "\n",
    "df = spark.createDataFrame(data, schema=schema_transacoes)\n",
    "\n",
    "df.write.mode(\"append\").parquet(\"/Volumes/workspace/bravium/bravium_db/transacao/\")"
   ]
  },
  {
   "cell_type": "code",
   "execution_count": 0,
   "metadata": {
    "application/vnd.databricks.v1+cell": {
     "cellMetadata": {
      "byteLimit": 2048000,
      "rowLimit": 10000
     },
     "inputWidgets": {},
     "nuid": "005ae385-0a65-4e60-b12f-82da06cd4667",
     "showTitle": false,
     "tableResultSettingsMap": {},
     "title": ""
    }
   },
   "outputs": [
    {
     "output_type": "display_data",
     "data": {
      "text/html": [
       "<style scoped>\n",
       "  .table-result-container {\n",
       "    max-height: 300px;\n",
       "    overflow: auto;\n",
       "  }\n",
       "  table, th, td {\n",
       "    border: 1px solid black;\n",
       "    border-collapse: collapse;\n",
       "  }\n",
       "  th, td {\n",
       "    padding: 5px;\n",
       "  }\n",
       "  th {\n",
       "    text-align: left;\n",
       "  }\n",
       "</style><div class='table-result-container'><table class='table-result'><thead style='background-color: white'><tr><th>transacao_id</th><th>timestamp</th><th>cliente_id</th><th>valor</th><th>status</th></tr></thead><tbody><tr><td>fdd11398-9a59-4855-9838-f9dcb6fb14c9</td><td>2025-09-28T21:33:43.232Z</td><td>ba0995cd-44b7-49f3-bee1-56dcfdee8bf1</td><td>376.02</td><td>CANCELADO</td></tr><tr><td>fdd11398-9a59-4855-9838-f9dcb6fb14c9</td><td>2025-09-28T18:41:15.681Z</td><td>7597e9cd-9c37-42a3-a977-1d62806436bf</td><td>756.15</td><td>APROVADO</td></tr></tbody></table></div>"
      ]
     },
     "metadata": {
      "application/vnd.databricks.v1+output": {
       "addedWidgets": {},
       "aggData": [],
       "aggError": "",
       "aggOverflow": false,
       "aggSchema": [],
       "aggSeriesLimitReached": false,
       "aggType": "",
       "arguments": {},
       "columnCustomDisplayInfos": {},
       "data": [
        [
         "fdd11398-9a59-4855-9838-f9dcb6fb14c9",
         "2025-09-28T21:33:43.232Z",
         "ba0995cd-44b7-49f3-bee1-56dcfdee8bf1",
         376.02,
         "CANCELADO"
        ],
        [
         "fdd11398-9a59-4855-9838-f9dcb6fb14c9",
         "2025-09-28T18:41:15.681Z",
         "7597e9cd-9c37-42a3-a977-1d62806436bf",
         756.15,
         "APROVADO"
        ]
       ],
       "datasetInfos": [],
       "dbfsResultPath": null,
       "isJsonSchema": true,
       "metadata": {},
       "overflow": false,
       "plotOptions": {
        "customPlotOptions": {},
        "displayType": "table",
        "pivotAggregation": null,
        "pivotColumns": null,
        "xColumns": null,
        "yColumns": null
       },
       "removedWidgets": [],
       "schema": [
        {
         "metadata": "{}",
         "name": "transacao_id",
         "type": "\"string\""
        },
        {
         "metadata": "{}",
         "name": "timestamp",
         "type": "\"timestamp\""
        },
        {
         "metadata": "{}",
         "name": "cliente_id",
         "type": "\"string\""
        },
        {
         "metadata": "{}",
         "name": "valor",
         "type": "\"double\""
        },
        {
         "metadata": "{}",
         "name": "status",
         "type": "\"string\""
        }
       ],
       "type": "table"
      }
     },
     "output_type": "display_data"
    },
    {
     "output_type": "display_data",
     "data": {
      "text/html": [
       "<style scoped>\n",
       "  .table-result-container {\n",
       "    max-height: 300px;\n",
       "    overflow: auto;\n",
       "  }\n",
       "  table, th, td {\n",
       "    border: 1px solid black;\n",
       "    border-collapse: collapse;\n",
       "  }\n",
       "  th, td {\n",
       "    padding: 5px;\n",
       "  }\n",
       "  th {\n",
       "    text-align: left;\n",
       "  }\n",
       "</style><div class='table-result-container'><table class='table-result'><thead style='background-color: white'><tr><th>transacao_id</th><th>timestamp</th><th>cliente_id</th><th>valor</th><th>status</th></tr></thead><tbody><tr><td>fdd11398-9a59-4855-9838-f9dcb6fb14c9</td><td>2025-09-28T21:33:43.232Z</td><td>ba0995cd-44b7-49f3-bee1-56dcfdee8bf1</td><td>376.02</td><td>CANCELADO</td></tr><tr><td>fdd11398-9a59-4855-9838-f9dcb6fb14c9</td><td>2025-09-28T18:41:15.681Z</td><td>7597e9cd-9c37-42a3-a977-1d62806436bf</td><td>756.15</td><td>APROVADO</td></tr></tbody></table></div>"
      ]
     },
     "metadata": {
      "application/vnd.databricks.v1+output": {
       "addedWidgets": {},
       "aggData": [],
       "aggError": "",
       "aggOverflow": false,
       "aggSchema": [],
       "aggSeriesLimitReached": false,
       "aggType": "",
       "arguments": {},
       "columnCustomDisplayInfos": {},
       "data": [
        [
         "fdd11398-9a59-4855-9838-f9dcb6fb14c9",
         "2025-09-28T21:33:43.232Z",
         "ba0995cd-44b7-49f3-bee1-56dcfdee8bf1",
         376.02,
         "CANCELADO"
        ],
        [
         "fdd11398-9a59-4855-9838-f9dcb6fb14c9",
         "2025-09-28T18:41:15.681Z",
         "7597e9cd-9c37-42a3-a977-1d62806436bf",
         756.15,
         "APROVADO"
        ]
       ],
       "datasetInfos": [],
       "dbfsResultPath": null,
       "isJsonSchema": true,
       "metadata": {},
       "overflow": false,
       "plotOptions": {
        "customPlotOptions": {},
        "displayType": "table",
        "pivotAggregation": null,
        "pivotColumns": null,
        "xColumns": null,
        "yColumns": null
       },
       "removedWidgets": [],
       "schema": [
        {
         "metadata": "{}",
         "name": "transacao_id",
         "type": "\"string\""
        },
        {
         "metadata": "{}",
         "name": "timestamp",
         "type": "\"timestamp\""
        },
        {
         "metadata": "{}",
         "name": "cliente_id",
         "type": "\"string\""
        },
        {
         "metadata": "{}",
         "name": "valor",
         "type": "\"double\""
        },
        {
         "metadata": "{}",
         "name": "status",
         "type": "\"string\""
        }
       ],
       "type": "table"
      }
     },
     "output_type": "display_data"
    },
    {
     "output_type": "display_data",
     "data": {
      "text/html": [
       "<style scoped>\n",
       "  .table-result-container {\n",
       "    max-height: 300px;\n",
       "    overflow: auto;\n",
       "  }\n",
       "  table, th, td {\n",
       "    border: 1px solid black;\n",
       "    border-collapse: collapse;\n",
       "  }\n",
       "  th, td {\n",
       "    padding: 5px;\n",
       "  }\n",
       "  th {\n",
       "    text-align: left;\n",
       "  }\n",
       "</style><div class='table-result-container'><table class='table-result'><thead style='background-color: white'><tr><th>transacao_id</th><th>timestamp</th><th>cliente_id</th><th>valor</th><th>status</th></tr></thead><tbody><tr><td>fdd11398-9a59-4855-9838-f9dcb6fb14c9</td><td>2025-09-28T18:41:15.681Z</td><td>7597e9cd-9c37-42a3-a977-1d62806436bf</td><td>756.15</td><td>APROVADO</td></tr></tbody></table></div>"
      ]
     },
     "metadata": {
      "application/vnd.databricks.v1+output": {
       "addedWidgets": {},
       "aggData": [],
       "aggError": "",
       "aggOverflow": false,
       "aggSchema": [],
       "aggSeriesLimitReached": false,
       "aggType": "",
       "arguments": {},
       "columnCustomDisplayInfos": {},
       "data": [
        [
         "fdd11398-9a59-4855-9838-f9dcb6fb14c9",
         "2025-09-28T18:41:15.681Z",
         "7597e9cd-9c37-42a3-a977-1d62806436bf",
         756.15,
         "APROVADO"
        ]
       ],
       "datasetInfos": [],
       "dbfsResultPath": null,
       "isJsonSchema": true,
       "metadata": {},
       "overflow": false,
       "plotOptions": {
        "customPlotOptions": {},
        "displayType": "table",
        "pivotAggregation": null,
        "pivotColumns": null,
        "xColumns": null,
        "yColumns": null
       },
       "removedWidgets": [],
       "schema": [
        {
         "metadata": "{}",
         "name": "transacao_id",
         "type": "\"string\""
        },
        {
         "metadata": "{}",
         "name": "timestamp",
         "type": "\"timestamp\""
        },
        {
         "metadata": "{}",
         "name": "cliente_id",
         "type": "\"string\""
        },
        {
         "metadata": "{}",
         "name": "valor",
         "type": "\"double\""
        },
        {
         "metadata": "{}",
         "name": "status",
         "type": "\"string\""
        }
       ],
       "type": "table"
      }
     },
     "output_type": "display_data"
    }
   ],
   "source": [
    "df_tran = spark.read.format(\"parquet\").load(\"/Volumes/workspace/bravium/bravium_db/transacao/\")\n",
    "bronze_tran = spark.read.format(\"delta\").load(\"/Volumes/workspace/bravium/bronze/transacao/\")\n",
    "silver_tran = spark.read.format(\"delta\").load(\"/Volumes/workspace/bravium/silver/transacao/\")\n",
    "\n",
    "display(df_tran.filter(df_tran.transacao_id == 'fdd11398-9a59-4855-9838-f9dcb6fb14c9'))\n",
    "display(bronze_tran.filter(bronze_tran.transacao_id == 'fdd11398-9a59-4855-9838-f9dcb6fb14c9'))\n",
    "display(silver_tran.filter(silver_tran.transacao_id == 'fdd11398-9a59-4855-9838-f9dcb6fb14c9'))"
   ]
  },
  {
   "cell_type": "code",
   "execution_count": 0,
   "metadata": {
    "application/vnd.databricks.v1+cell": {
     "cellMetadata": {
      "byteLimit": 2048000,
      "rowLimit": 10000
     },
     "inputWidgets": {},
     "nuid": "6b215c18-9609-4a38-9a2c-87a5c1f1d661",
     "showTitle": false,
     "tableResultSettingsMap": {},
     "title": ""
    }
   },
   "outputs": [
    {
     "output_type": "display_data",
     "data": {
      "text/html": [
       "<style scoped>\n",
       "  .table-result-container {\n",
       "    max-height: 300px;\n",
       "    overflow: auto;\n",
       "  }\n",
       "  table, th, td {\n",
       "    border: 1px solid black;\n",
       "    border-collapse: collapse;\n",
       "  }\n",
       "  th, td {\n",
       "    padding: 5px;\n",
       "  }\n",
       "  th {\n",
       "    text-align: left;\n",
       "  }\n",
       "</style><div class='table-result-container'><table class='table-result'><thead style='background-color: white'><tr><th>cliente_id</th><th>nome</th><th>estado</th><th>data_criacao</th></tr></thead><tbody><tr><td>296cca9b-afb8-41d3-b153-1cd122ac304e</td><td>Cliente_38</td><td>SP</td><td>2025-09-28T21:33:43.232Z</td></tr><tr><td>ba0995cd-44b7-49f3-bee1-56dcfdee8bf1</td><td>Cliente_25</td><td>RJ</td><td>2025-09-28T21:33:43.232Z</td></tr><tr><td>bd217e8d-2a34-4450-bbf1-b1fed3e00098</td><td>Cliente_22</td><td>RJ</td><td>2025-09-28T21:33:43.232Z</td></tr><tr><td>da1004fa-b45f-4ec3-ba7f-adfe890164d7</td><td>Cliente_46</td><td>BA</td><td>2025-09-28T21:33:43.232Z</td></tr><tr><td>2854f225-1425-4649-b9d7-cea6abb5d1c3</td><td>Cliente_19</td><td>MG</td><td>2025-09-28T21:33:43.232Z</td></tr></tbody></table></div>"
      ]
     },
     "metadata": {
      "application/vnd.databricks.v1+output": {
       "addedWidgets": {},
       "aggData": [],
       "aggError": "",
       "aggOverflow": false,
       "aggSchema": [],
       "aggSeriesLimitReached": false,
       "aggType": "",
       "arguments": {},
       "columnCustomDisplayInfos": {},
       "data": [
        [
         "296cca9b-afb8-41d3-b153-1cd122ac304e",
         "Cliente_38",
         "SP",
         "2025-09-28T21:33:43.232Z"
        ],
        [
         "ba0995cd-44b7-49f3-bee1-56dcfdee8bf1",
         "Cliente_25",
         "RJ",
         "2025-09-28T21:33:43.232Z"
        ],
        [
         "bd217e8d-2a34-4450-bbf1-b1fed3e00098",
         "Cliente_22",
         "RJ",
         "2025-09-28T21:33:43.232Z"
        ],
        [
         "da1004fa-b45f-4ec3-ba7f-adfe890164d7",
         "Cliente_46",
         "BA",
         "2025-09-28T21:33:43.232Z"
        ],
        [
         "2854f225-1425-4649-b9d7-cea6abb5d1c3",
         "Cliente_19",
         "MG",
         "2025-09-28T21:33:43.232Z"
        ]
       ],
       "datasetInfos": [],
       "dbfsResultPath": null,
       "isJsonSchema": true,
       "metadata": {},
       "overflow": false,
       "plotOptions": {
        "customPlotOptions": {},
        "displayType": "table",
        "pivotAggregation": null,
        "pivotColumns": null,
        "xColumns": null,
        "yColumns": null
       },
       "removedWidgets": [],
       "schema": [
        {
         "metadata": "{}",
         "name": "cliente_id",
         "type": "\"string\""
        },
        {
         "metadata": "{}",
         "name": "nome",
         "type": "\"string\""
        },
        {
         "metadata": "{}",
         "name": "estado",
         "type": "\"string\""
        },
        {
         "metadata": "{}",
         "name": "data_criacao",
         "type": "\"timestamp\""
        }
       ],
       "type": "table"
      }
     },
     "output_type": "display_data"
    },
    {
     "output_type": "display_data",
     "data": {
      "text/html": [
       "<style scoped>\n",
       "  .table-result-container {\n",
       "    max-height: 300px;\n",
       "    overflow: auto;\n",
       "  }\n",
       "  table, th, td {\n",
       "    border: 1px solid black;\n",
       "    border-collapse: collapse;\n",
       "  }\n",
       "  th, td {\n",
       "    padding: 5px;\n",
       "  }\n",
       "  th {\n",
       "    text-align: left;\n",
       "  }\n",
       "</style><div class='table-result-container'><table class='table-result'><thead style='background-color: white'><tr><th>cliente_id</th><th>nome</th><th>estado</th><th>data_criacao</th></tr></thead><tbody><tr><td>296cca9b-afb8-41d3-b153-1cd122ac304e</td><td>Cliente_38</td><td>SP</td><td>2025-09-28T21:33:43.232Z</td></tr><tr><td>ba0995cd-44b7-49f3-bee1-56dcfdee8bf1</td><td>Cliente_25</td><td>RJ</td><td>2025-09-28T21:33:43.232Z</td></tr><tr><td>bd217e8d-2a34-4450-bbf1-b1fed3e00098</td><td>Cliente_22</td><td>RJ</td><td>2025-09-28T21:33:43.232Z</td></tr><tr><td>da1004fa-b45f-4ec3-ba7f-adfe890164d7</td><td>Cliente_46</td><td>BA</td><td>2025-09-28T21:33:43.232Z</td></tr><tr><td>2854f225-1425-4649-b9d7-cea6abb5d1c3</td><td>Cliente_19</td><td>MG</td><td>2025-09-28T21:33:43.232Z</td></tr></tbody></table></div>"
      ]
     },
     "metadata": {
      "application/vnd.databricks.v1+output": {
       "addedWidgets": {},
       "aggData": [],
       "aggError": "",
       "aggOverflow": false,
       "aggSchema": [],
       "aggSeriesLimitReached": false,
       "aggType": "",
       "arguments": {},
       "columnCustomDisplayInfos": {},
       "data": [
        [
         "296cca9b-afb8-41d3-b153-1cd122ac304e",
         "Cliente_38",
         "SP",
         "2025-09-28T21:33:43.232Z"
        ],
        [
         "ba0995cd-44b7-49f3-bee1-56dcfdee8bf1",
         "Cliente_25",
         "RJ",
         "2025-09-28T21:33:43.232Z"
        ],
        [
         "bd217e8d-2a34-4450-bbf1-b1fed3e00098",
         "Cliente_22",
         "RJ",
         "2025-09-28T21:33:43.232Z"
        ],
        [
         "da1004fa-b45f-4ec3-ba7f-adfe890164d7",
         "Cliente_46",
         "BA",
         "2025-09-28T21:33:43.232Z"
        ],
        [
         "2854f225-1425-4649-b9d7-cea6abb5d1c3",
         "Cliente_19",
         "MG",
         "2025-09-28T21:33:43.232Z"
        ]
       ],
       "datasetInfos": [],
       "dbfsResultPath": null,
       "isJsonSchema": true,
       "metadata": {},
       "overflow": false,
       "plotOptions": {
        "customPlotOptions": {},
        "displayType": "table",
        "pivotAggregation": null,
        "pivotColumns": null,
        "xColumns": null,
        "yColumns": null
       },
       "removedWidgets": [],
       "schema": [
        {
         "metadata": "{}",
         "name": "cliente_id",
         "type": "\"string\""
        },
        {
         "metadata": "{}",
         "name": "nome",
         "type": "\"string\""
        },
        {
         "metadata": "{}",
         "name": "estado",
         "type": "\"string\""
        },
        {
         "metadata": "{}",
         "name": "data_criacao",
         "type": "\"timestamp\""
        }
       ],
       "type": "table"
      }
     },
     "output_type": "display_data"
    },
    {
     "output_type": "display_data",
     "data": {
      "text/html": [
       "<style scoped>\n",
       "  .table-result-container {\n",
       "    max-height: 300px;\n",
       "    overflow: auto;\n",
       "  }\n",
       "  table, th, td {\n",
       "    border: 1px solid black;\n",
       "    border-collapse: collapse;\n",
       "  }\n",
       "  th, td {\n",
       "    padding: 5px;\n",
       "  }\n",
       "  th {\n",
       "    text-align: left;\n",
       "  }\n",
       "</style><div class='table-result-container'><table class='table-result'><thead style='background-color: white'><tr><th>cliente_id</th><th>nome</th><th>estado</th><th>data_criacao</th></tr></thead><tbody><tr><td>ba0995cd-44b7-49f3-bee1-56dcfdee8bf1</td><td>Cliente_25</td><td>RJ</td><td>2025-09-28T21:33:43.232Z</td></tr><tr><td>bd217e8d-2a34-4450-bbf1-b1fed3e00098</td><td>Cliente_22</td><td>RJ</td><td>2025-09-28T21:33:43.232Z</td></tr><tr><td>da1004fa-b45f-4ec3-ba7f-adfe890164d7</td><td>Cliente_46</td><td>BA</td><td>2025-09-28T21:33:43.232Z</td></tr><tr><td>296cca9b-afb8-41d3-b153-1cd122ac304e</td><td>Cliente_38</td><td>SP</td><td>2025-09-28T21:33:43.232Z</td></tr><tr><td>2854f225-1425-4649-b9d7-cea6abb5d1c3</td><td>Cliente_19</td><td>MG</td><td>2025-09-28T21:33:43.232Z</td></tr></tbody></table></div>"
      ]
     },
     "metadata": {
      "application/vnd.databricks.v1+output": {
       "addedWidgets": {},
       "aggData": [],
       "aggError": "",
       "aggOverflow": false,
       "aggSchema": [],
       "aggSeriesLimitReached": false,
       "aggType": "",
       "arguments": {},
       "columnCustomDisplayInfos": {},
       "data": [
        [
         "ba0995cd-44b7-49f3-bee1-56dcfdee8bf1",
         "Cliente_25",
         "RJ",
         "2025-09-28T21:33:43.232Z"
        ],
        [
         "bd217e8d-2a34-4450-bbf1-b1fed3e00098",
         "Cliente_22",
         "RJ",
         "2025-09-28T21:33:43.232Z"
        ],
        [
         "da1004fa-b45f-4ec3-ba7f-adfe890164d7",
         "Cliente_46",
         "BA",
         "2025-09-28T21:33:43.232Z"
        ],
        [
         "296cca9b-afb8-41d3-b153-1cd122ac304e",
         "Cliente_38",
         "SP",
         "2025-09-28T21:33:43.232Z"
        ],
        [
         "2854f225-1425-4649-b9d7-cea6abb5d1c3",
         "Cliente_19",
         "MG",
         "2025-09-28T21:33:43.232Z"
        ]
       ],
       "datasetInfos": [],
       "dbfsResultPath": null,
       "isJsonSchema": true,
       "metadata": {},
       "overflow": false,
       "plotOptions": {
        "customPlotOptions": {},
        "displayType": "table",
        "pivotAggregation": null,
        "pivotColumns": null,
        "xColumns": null,
        "yColumns": null
       },
       "removedWidgets": [],
       "schema": [
        {
         "metadata": "{}",
         "name": "cliente_id",
         "type": "\"string\""
        },
        {
         "metadata": "{}",
         "name": "nome",
         "type": "\"string\""
        },
        {
         "metadata": "{}",
         "name": "estado",
         "type": "\"string\""
        },
        {
         "metadata": "{}",
         "name": "data_criacao",
         "type": "\"timestamp\""
        }
       ],
       "type": "table"
      }
     },
     "output_type": "display_data"
    }
   ],
   "source": [
    "df_cliente = spark.read.format(\"parquet\").load(\"/Volumes/workspace/bravium/bravium_db/cliente/\")\n",
    "bronze_cliente = spark.read.format(\"delta\").load(\"/Volumes/workspace/bravium/bronze/cliente/\")\n",
    "silver_cliente = spark.read.format(\"delta\").load(\"/Volumes/workspace/bravium/silver/cliente/\")\n",
    "\n",
    "display(df_cliente)\n",
    "display(bronze_cliente)\n",
    "display(silver_cliente)\n",
    "#display(df_cliente.filter(df_cliente.transacao_id == '9b4fca8c-f970-4731-ac5d-46fe2868784a'))\n",
    "#display(bronze_cliente.filter(bronze_cliente.transacao_id == '9b4fca8c-f970-4731-ac5d-46fe2868784a'))\n",
    "#display(silver_cliente.filter(silver_cliente.transacao_id == '9b4fca8c-f970-4731-ac5d-46fe2868784a'))"
   ]
  },
  {
   "cell_type": "code",
   "execution_count": 0,
   "metadata": {
    "application/vnd.databricks.v1+cell": {
     "cellMetadata": {
      "byteLimit": 2048000,
      "rowLimit": 10000
     },
     "inputWidgets": {},
     "nuid": "ea7b249f-6680-4398-a096-7e2b00ee6356",
     "showTitle": false,
     "tableResultSettingsMap": {},
     "title": ""
    }
   },
   "outputs": [],
   "source": [
    "from pyspark.sql import SparkSession\n",
    "from pyspark.sql.types import StructType, StructField, StringType, DoubleType, TimestampType\n",
    "from datetime import datetime\n",
    "\n",
    "schema_cliente = StructType([\n",
    "    StructField(\"cliente_id\", StringType(), True),\n",
    "    StructField(\"nome\", StringType(), True), \n",
    "    StructField(\"estado\", StringType(), True),\n",
    "    StructField(\"data_criacao\", TimestampType(), True),\n",
    "])\n",
    "\n",
    "data = [(\n",
    "    \"ba0995cd-44b7-49f3-bee1-56dcfdee8bf1\",\n",
    "    \"Joao\",\n",
    "    \"SP\",\n",
    "    datetime.fromisoformat(\"2025-09-28T18:41:15.681+00:00\"),\n",
    ")]\n",
    "\n",
    "df = spark.createDataFrame(data, schema=schema_cliente)\n",
    "\n",
    "df.write.mode(\"append\").parquet(\"/Volumes/workspace/bravium/bravium_db/cliente\")"
   ]
  },
  {
   "cell_type": "code",
   "execution_count": 0,
   "metadata": {
    "application/vnd.databricks.v1+cell": {
     "cellMetadata": {
      "byteLimit": 2048000,
      "rowLimit": 10000
     },
     "inputWidgets": {},
     "nuid": "22e969de-be3f-4fc6-b1a7-188723a9c23a",
     "showTitle": false,
     "tableResultSettingsMap": {},
     "title": ""
    }
   },
   "outputs": [
    {
     "output_type": "display_data",
     "data": {
      "text/html": [
       "<style scoped>\n",
       "  .table-result-container {\n",
       "    max-height: 300px;\n",
       "    overflow: auto;\n",
       "  }\n",
       "  table, th, td {\n",
       "    border: 1px solid black;\n",
       "    border-collapse: collapse;\n",
       "  }\n",
       "  th, td {\n",
       "    padding: 5px;\n",
       "  }\n",
       "  th {\n",
       "    text-align: left;\n",
       "  }\n",
       "</style><div class='table-result-container'><table class='table-result'><thead style='background-color: white'><tr><th>cliente_id</th><th>nome</th><th>estado</th><th>data_criacao</th></tr></thead><tbody><tr><td>ba0995cd-44b7-49f3-bee1-56dcfdee8bf1</td><td>Cliente_25</td><td>RJ</td><td>2025-09-28T21:33:43.232Z</td></tr><tr><td>ba0995cd-44b7-49f3-bee1-56dcfdee8bf1</td><td>Joao</td><td>SP</td><td>2025-09-28T18:41:15.681Z</td></tr></tbody></table></div>"
      ]
     },
     "metadata": {
      "application/vnd.databricks.v1+output": {
       "addedWidgets": {},
       "aggData": [],
       "aggError": "",
       "aggOverflow": false,
       "aggSchema": [],
       "aggSeriesLimitReached": false,
       "aggType": "",
       "arguments": {},
       "columnCustomDisplayInfos": {},
       "data": [
        [
         "ba0995cd-44b7-49f3-bee1-56dcfdee8bf1",
         "Cliente_25",
         "RJ",
         "2025-09-28T21:33:43.232Z"
        ],
        [
         "ba0995cd-44b7-49f3-bee1-56dcfdee8bf1",
         "Joao",
         "SP",
         "2025-09-28T18:41:15.681Z"
        ]
       ],
       "datasetInfos": [],
       "dbfsResultPath": null,
       "isJsonSchema": true,
       "metadata": {},
       "overflow": false,
       "plotOptions": {
        "customPlotOptions": {},
        "displayType": "table",
        "pivotAggregation": null,
        "pivotColumns": null,
        "xColumns": null,
        "yColumns": null
       },
       "removedWidgets": [],
       "schema": [
        {
         "metadata": "{}",
         "name": "cliente_id",
         "type": "\"string\""
        },
        {
         "metadata": "{}",
         "name": "nome",
         "type": "\"string\""
        },
        {
         "metadata": "{}",
         "name": "estado",
         "type": "\"string\""
        },
        {
         "metadata": "{}",
         "name": "data_criacao",
         "type": "\"timestamp\""
        }
       ],
       "type": "table"
      }
     },
     "output_type": "display_data"
    },
    {
     "output_type": "display_data",
     "data": {
      "text/html": [
       "<style scoped>\n",
       "  .table-result-container {\n",
       "    max-height: 300px;\n",
       "    overflow: auto;\n",
       "  }\n",
       "  table, th, td {\n",
       "    border: 1px solid black;\n",
       "    border-collapse: collapse;\n",
       "  }\n",
       "  th, td {\n",
       "    padding: 5px;\n",
       "  }\n",
       "  th {\n",
       "    text-align: left;\n",
       "  }\n",
       "</style><div class='table-result-container'><table class='table-result'><thead style='background-color: white'><tr><th>cliente_id</th><th>nome</th><th>estado</th><th>data_criacao</th></tr></thead><tbody><tr><td>ba0995cd-44b7-49f3-bee1-56dcfdee8bf1</td><td>Cliente_25</td><td>RJ</td><td>2025-09-28T21:33:43.232Z</td></tr><tr><td>ba0995cd-44b7-49f3-bee1-56dcfdee8bf1</td><td>Joao</td><td>SP</td><td>2025-09-28T18:41:15.681Z</td></tr></tbody></table></div>"
      ]
     },
     "metadata": {
      "application/vnd.databricks.v1+output": {
       "addedWidgets": {},
       "aggData": [],
       "aggError": "",
       "aggOverflow": false,
       "aggSchema": [],
       "aggSeriesLimitReached": false,
       "aggType": "",
       "arguments": {},
       "columnCustomDisplayInfos": {},
       "data": [
        [
         "ba0995cd-44b7-49f3-bee1-56dcfdee8bf1",
         "Cliente_25",
         "RJ",
         "2025-09-28T21:33:43.232Z"
        ],
        [
         "ba0995cd-44b7-49f3-bee1-56dcfdee8bf1",
         "Joao",
         "SP",
         "2025-09-28T18:41:15.681Z"
        ]
       ],
       "datasetInfos": [],
       "dbfsResultPath": null,
       "isJsonSchema": true,
       "metadata": {},
       "overflow": false,
       "plotOptions": {
        "customPlotOptions": {},
        "displayType": "table",
        "pivotAggregation": null,
        "pivotColumns": null,
        "xColumns": null,
        "yColumns": null
       },
       "removedWidgets": [],
       "schema": [
        {
         "metadata": "{}",
         "name": "cliente_id",
         "type": "\"string\""
        },
        {
         "metadata": "{}",
         "name": "nome",
         "type": "\"string\""
        },
        {
         "metadata": "{}",
         "name": "estado",
         "type": "\"string\""
        },
        {
         "metadata": "{}",
         "name": "data_criacao",
         "type": "\"timestamp\""
        }
       ],
       "type": "table"
      }
     },
     "output_type": "display_data"
    },
    {
     "output_type": "display_data",
     "data": {
      "text/html": [
       "<style scoped>\n",
       "  .table-result-container {\n",
       "    max-height: 300px;\n",
       "    overflow: auto;\n",
       "  }\n",
       "  table, th, td {\n",
       "    border: 1px solid black;\n",
       "    border-collapse: collapse;\n",
       "  }\n",
       "  th, td {\n",
       "    padding: 5px;\n",
       "  }\n",
       "  th {\n",
       "    text-align: left;\n",
       "  }\n",
       "</style><div class='table-result-container'><table class='table-result'><thead style='background-color: white'><tr><th>cliente_id</th><th>nome</th><th>estado</th><th>data_criacao</th></tr></thead><tbody><tr><td>ba0995cd-44b7-49f3-bee1-56dcfdee8bf1</td><td>Joao</td><td>SP</td><td>2025-09-28T18:41:15.681Z</td></tr></tbody></table></div>"
      ]
     },
     "metadata": {
      "application/vnd.databricks.v1+output": {
       "addedWidgets": {},
       "aggData": [],
       "aggError": "",
       "aggOverflow": false,
       "aggSchema": [],
       "aggSeriesLimitReached": false,
       "aggType": "",
       "arguments": {},
       "columnCustomDisplayInfos": {},
       "data": [
        [
         "ba0995cd-44b7-49f3-bee1-56dcfdee8bf1",
         "Joao",
         "SP",
         "2025-09-28T18:41:15.681Z"
        ]
       ],
       "datasetInfos": [],
       "dbfsResultPath": null,
       "isJsonSchema": true,
       "metadata": {},
       "overflow": false,
       "plotOptions": {
        "customPlotOptions": {},
        "displayType": "table",
        "pivotAggregation": null,
        "pivotColumns": null,
        "xColumns": null,
        "yColumns": null
       },
       "removedWidgets": [],
       "schema": [
        {
         "metadata": "{}",
         "name": "cliente_id",
         "type": "\"string\""
        },
        {
         "metadata": "{}",
         "name": "nome",
         "type": "\"string\""
        },
        {
         "metadata": "{}",
         "name": "estado",
         "type": "\"string\""
        },
        {
         "metadata": "{}",
         "name": "data_criacao",
         "type": "\"timestamp\""
        }
       ],
       "type": "table"
      }
     },
     "output_type": "display_data"
    }
   ],
   "source": [
    "df_cliente = spark.read.format(\"parquet\").load(\"/Volumes/workspace/bravium/bravium_db/cliente/\")\n",
    "bronze_cliente = spark.read.format(\"delta\").load(\"/Volumes/workspace/bravium/bronze/cliente/\")\n",
    "silver_cliente = spark.read.format(\"delta\").load(\"/Volumes/workspace/bravium/silver/cliente/\")\n",
    "\n",
    "display(df_cliente.filter(df_cliente.cliente_id == 'ba0995cd-44b7-49f3-bee1-56dcfdee8bf1'))\n",
    "display(bronze_cliente.filter(bronze_cliente.cliente_id == 'ba0995cd-44b7-49f3-bee1-56dcfdee8bf1'))\n",
    "display(silver_cliente.filter(silver_cliente.cliente_id == 'ba0995cd-44b7-49f3-bee1-56dcfdee8bf1'))"
   ]
  }
 ],
 "metadata": {
  "application/vnd.databricks.v1+notebook": {
   "computePreferences": null,
   "dashboards": [],
   "environmentMetadata": {
    "base_environment": "",
    "environment_version": "3"
   },
   "inputWidgetPreferences": null,
   "language": "python",
   "notebookMetadata": {
    "mostRecentlyExecutedCommandWithImplicitDF": {
     "commandId": 5074927976193468,
     "dataframes": [
      "_sqldf"
     ]
    },
    "pythonIndentUnit": 4
   },
   "notebookName": "Bravium Visual Data Loading and Validation",
   "widgets": {}
  },
  "language_info": {
   "name": "python"
  }
 },
 "nbformat": 4,
 "nbformat_minor": 0
}