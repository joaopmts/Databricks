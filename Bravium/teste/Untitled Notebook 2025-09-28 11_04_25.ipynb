{
 "cells": [
  {
   "cell_type": "code",
   "execution_count": 0,
   "metadata": {
    "application/vnd.databricks.v1+cell": {
     "cellMetadata": {
      "byteLimit": 2048000,
      "rowLimit": 10000
     },
     "inputWidgets": {},
     "nuid": "3f0a3dff-05f3-48f9-b688-4070c6c893ac",
     "showTitle": false,
     "tableResultSettingsMap": {},
     "title": ""
    }
   },
   "outputs": [],
   "source": [
    "df_cli = spark.read.format(\"parquet\").load(\"/Volumes/workspace/bravium/bravium_db/cliente/\")"
   ]
  },
  {
   "cell_type": "code",
   "execution_count": 0,
   "metadata": {
    "application/vnd.databricks.v1+cell": {
     "cellMetadata": {
      "byteLimit": 2048000,
      "rowLimit": 10000
     },
     "inputWidgets": {},
     "nuid": "8d127890-cdef-49df-acfc-be60b576144b",
     "showTitle": false,
     "tableResultSettingsMap": {},
     "title": ""
    }
   },
   "outputs": [],
   "source": [
    "display(df_cli)"
   ]
  },
  {
   "cell_type": "code",
   "execution_count": 0,
   "metadata": {
    "application/vnd.databricks.v1+cell": {
     "cellMetadata": {
      "byteLimit": 2048000,
      "rowLimit": 10000
     },
     "inputWidgets": {},
     "nuid": "fdec0b6e-4f0f-4264-8dbd-e713530c0279",
     "showTitle": false,
     "tableResultSettingsMap": {},
     "title": ""
    }
   },
   "outputs": [],
   "source": [
    "df_tran = spark.read.format(\"parquet\").load(\"/Volumes/workspace/bravium/bravium_db/transacao/\")"
   ]
  },
  {
   "cell_type": "code",
   "execution_count": 0,
   "metadata": {
    "application/vnd.databricks.v1+cell": {
     "cellMetadata": {
      "byteLimit": 2048000,
      "rowLimit": 10000
     },
     "inputWidgets": {},
     "nuid": "bd0cf5e6-cf62-4bbd-a756-f7ae26751b22",
     "showTitle": false,
     "tableResultSettingsMap": {},
     "title": ""
    }
   },
   "outputs": [],
   "source": [
    "display(df_tran)"
   ]
  },
  {
   "cell_type": "code",
   "execution_count": 0,
   "metadata": {
    "application/vnd.databricks.v1+cell": {
     "cellMetadata": {
      "byteLimit": 2048000,
      "rowLimit": 10000
     },
     "inputWidgets": {},
     "nuid": "7a348398-186e-4901-a541-981ef803bd74",
     "showTitle": false,
     "tableResultSettingsMap": {},
     "title": ""
    }
   },
   "outputs": [],
   "source": [
    "from pyspark.sql.types import StructType, StructField, StringType, DoubleType, TimestampType\n",
    "\n",
    "schema_transacoes = StructType([\n",
    "    StructField(\"transacao_id\", StringType(), True),\n",
    "    StructField(\"timestamp\", TimestampType(), True),\n",
    "    StructField(\"cliente_id\", StringType(), True),\n",
    "    StructField(\"valor\", DoubleType(), True),\n",
    "    StructField(\"status\", StringType(), True)\n",
    "])\n",
    "\n",
    "# cria DataFrame vazio com o schema\n",
    "df_vazio = spark.createDataFrame([], schema_transacoes)\n",
    "\n",
    "# inicializa a tabela Delta\n",
    "df_vazio.write.format(\"delta\").mode(\"overwrite\").save(\"/Volumes/workspace/bravium/bronze/transacao/\")\n"
   ]
  },
  {
   "cell_type": "code",
   "execution_count": 0,
   "metadata": {
    "application/vnd.databricks.v1+cell": {
     "cellMetadata": {
      "byteLimit": 2048000,
      "rowLimit": 10000
     },
     "inputWidgets": {},
     "nuid": "5e20bc05-afb5-4179-b84a-f61a40f31b4d",
     "showTitle": false,
     "tableResultSettingsMap": {},
     "title": ""
    }
   },
   "outputs": [],
   "source": [
    "from pyspark.sql.types import StructType, StructField, StringType, DoubleType, TimestampType\n",
    "\n",
    "schema_cliente = StructType([\n",
    "    StructField(\"cliente_id\", StringType(), True),\n",
    "    StructField(\"nome\", StringType(), True), \n",
    "    StructField(\"estado\", StringType(), True),\n",
    "    StructField(\"data_criacao\", TimestampType(), True),\n",
    "])\n",
    "\n",
    "# cria DataFrame vazio com o schema\n",
    "df_vazio = spark.createDataFrame([], schema_cliente)\n",
    "\n",
    "# inicializa a tabela Delta\n",
    "df_vazio.write.format(\"delta\").mode(\"overwrite\").save(\"/Volumes/workspace/bravium/bronze/cliente/\")\n"
   ]
  },
  {
   "cell_type": "code",
   "execution_count": 0,
   "metadata": {
    "application/vnd.databricks.v1+cell": {
     "cellMetadata": {
      "byteLimit": 2048000,
      "rowLimit": 10000
     },
     "inputWidgets": {},
     "nuid": "bc40a4c0-5d45-4c1b-a264-a882485e8104",
     "showTitle": false,
     "tableResultSettingsMap": {
      "0": {
       "dataGridStateBlob": "{\"version\":1,\"tableState\":{\"columnPinning\":{\"left\":[\"#row_number#\"],\"right\":[]},\"columnSizing\":{\"#row_number#\":52},\"columnVisibility\":{}},\"settings\":{\"columns\":{}},\"syncTimestamp\":1759085304195}",
       "filterBlob": null,
       "queryPlanFiltersBlob": null,
       "tableResultIndex": 0
      }
     },
     "title": ""
    }
   },
   "outputs": [],
   "source": [
    "bronze_read = spark.read.format(\"delta\").load(\"/Volumes/workspace/bravium/bronze/transacao/\")\n",
    "\n",
    "bronze_read = bronze_read.select(\"*\").orderBy(\"timestamp\")\n",
    "display(bronze_read)"
   ]
  },
  {
   "cell_type": "code",
   "execution_count": 0,
   "metadata": {
    "application/vnd.databricks.v1+cell": {
     "cellMetadata": {
      "byteLimit": 2048000,
      "rowLimit": 10000
     },
     "inputWidgets": {},
     "nuid": "ad9c2989-620b-4974-b405-b336aa9722f2",
     "showTitle": false,
     "tableResultSettingsMap": {},
     "title": ""
    }
   },
   "outputs": [],
   "source": [
    "from pyspark.sql import SparkSession\n",
    "from pyspark.sql.types import StructType, StructField, StringType, DoubleType, TimestampType\n",
    "from datetime import datetime\n",
    "\n",
    "schema_transacoes = StructType([\n",
    "    StructField(\"transacao_id\", StringType(), True),\n",
    "    StructField(\"timestamp\", TimestampType(), True),\n",
    "    StructField(\"cliente_id\", StringType(), True),\n",
    "    StructField(\"valor\", DoubleType(), True),\n",
    "    StructField(\"status\", StringType(), True)\n",
    "])\n",
    "\n",
    "# Dados de exemplo (em lista de tuplas)\n",
    "data = [(\n",
    "    \"94304bdd-9094-42e3-8d25-6b37604b0920\",\n",
    "    datetime.fromisoformat(\"2025-09-28T18:41:15.681+00:00\"),\n",
    "    \"7597e9cd-9c37-42a3-a977-1d62806436bf\",\n",
    "    756.15,\n",
    "    \"APROVADO\"\n",
    ")]\n",
    "\n",
    "df = spark.createDataFrame(data, schema=schema_transacoes)\n",
    "\n",
    "df.write.mode(\"append\").parquet(\"/Volumes/workspace/bravium/bravium_db/transacao/\")\n"
   ]
  },
  {
   "cell_type": "code",
   "execution_count": 0,
   "metadata": {
    "application/vnd.databricks.v1+cell": {
     "cellMetadata": {},
     "inputWidgets": {},
     "nuid": "24093f9b-86da-4cb0-bf00-800a2cb6d982",
     "showTitle": false,
     "tableResultSettingsMap": {},
     "title": ""
    }
   },
   "outputs": [],
   "source": []
  }
 ],
 "metadata": {
  "application/vnd.databricks.v1+notebook": {
   "computePreferences": null,
   "dashboards": [],
   "environmentMetadata": {
    "base_environment": "",
    "environment_version": "3"
   },
   "inputWidgetPreferences": null,
   "language": "python",
   "notebookMetadata": {
    "mostRecentlyExecutedCommandWithImplicitDF": {
     "commandId": 5074927976193468,
     "dataframes": [
      "_sqldf"
     ]
    },
    "pythonIndentUnit": 4
   },
   "notebookName": "Untitled Notebook 2025-09-28 11_04_25",
   "widgets": {}
  },
  "language_info": {
   "name": "python"
  }
 },
 "nbformat": 4,
 "nbformat_minor": 0
}
