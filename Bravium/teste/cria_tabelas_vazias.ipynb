{
 "cells": [
  {
   "cell_type": "code",
   "execution_count": 0,
   "metadata": {
    "application/vnd.databricks.v1+cell": {
     "cellMetadata": {
      "byteLimit": 2048000,
      "rowLimit": 10000
     },
     "inputWidgets": {},
     "nuid": "71e800dd-e597-40db-950e-43dc9f1cfc15",
     "showTitle": false,
     "tableResultSettingsMap": {},
     "title": ""
    }
   },
   "outputs": [],
   "source": [
    "from pyspark.sql.types import StructType, StructField, StringType, DoubleType, TimestampType\n",
    "\n",
    "schema_cliente = StructType([\n",
    "    StructField(\"cliente_id\", StringType(), True),\n",
    "    StructField(\"nome\", StringType(), True), \n",
    "    StructField(\"estado\", StringType(), True),\n",
    "    StructField(\"data_criacao\", TimestampType(), True),\n",
    "])\n",
    "\n",
    "# cria DataFrame vazio com o schema\n",
    "df_vazio = spark.createDataFrame([], schema_cliente)\n",
    "\n",
    "# inicializa a tabela Delta\n",
    "df_vazio.write.format(\"delta\").mode(\"overwrite\").save(\"/Volumes/workspace/bravium/bronze/cliente/\")\n",
    "df_vazio.write.format(\"delta\").mode(\"overwrite\").save(\"/Volumes/workspace/bravium/silver/cliente/\")"
   ]
  },
  {
   "cell_type": "code",
   "execution_count": 0,
   "metadata": {
    "application/vnd.databricks.v1+cell": {
     "cellMetadata": {
      "byteLimit": 2048000,
      "rowLimit": 10000
     },
     "inputWidgets": {},
     "nuid": "b171eeae-a700-450e-8533-4f6217b64709",
     "showTitle": false,
     "tableResultSettingsMap": {},
     "title": ""
    }
   },
   "outputs": [],
   "source": [
    "from pyspark.sql.types import StructType, StructField, StringType, DoubleType, TimestampType\n",
    "\n",
    "schema_transacoes = StructType([\n",
    "    StructField(\"transacao_id\", StringType(), True),\n",
    "    StructField(\"timestamp\", TimestampType(), True),\n",
    "    StructField(\"cliente_id\", StringType(), True),\n",
    "    StructField(\"valor\", DoubleType(), True),\n",
    "    StructField(\"status\", StringType(), True)\n",
    "])\n",
    "\n",
    "# cria DataFrame vazio com o schema\n",
    "df_vazio = spark.createDataFrame([], schema_transacoes)\n",
    "\n",
    "# inicializa a tabela Delta\n",
    "df_vazio.write.format(\"delta\").mode(\"overwrite\").save(\"/Volumes/workspace/bravium/bronze/transacao/\")\n",
    "df_vazio.write.format(\"delta\").mode(\"overwrite\").save(\"/Volumes/workspace/bravium/silver/transacao/\")"
   ]
  }
 ],
 "metadata": {
  "application/vnd.databricks.v1+notebook": {
   "computePreferences": null,
   "dashboards": [],
   "environmentMetadata": {
    "base_environment": "",
    "environment_version": "3"
   },
   "inputWidgetPreferences": null,
   "language": "python",
   "notebookMetadata": {
    "pythonIndentUnit": 4
   },
   "notebookName": "cria_tabelas_vazias",
   "widgets": {}
  },
  "language_info": {
   "name": "python"
  }
 },
 "nbformat": 4,
 "nbformat_minor": 0
}