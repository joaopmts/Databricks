{
 "cells": [
  {
   "cell_type": "code",
   "execution_count": 0,
   "metadata": {
    "application/vnd.databricks.v1+cell": {
     "cellMetadata": {
      "byteLimit": 2048000,
      "rowLimit": 10000
     },
     "inputWidgets": {},
     "nuid": "3f94db07-a5a6-4e48-bb89-5d5c31b461b3",
     "showTitle": false,
     "tableResultSettingsMap": {},
     "title": ""
    }
   },
   "outputs": [],
   "source": [
    "from pyspark.sql import SparkSession\n",
    "import uuid\n",
    "import random\n",
    "from datetime import datetime\n",
    "\n",
    "path_cli = \"/Volumes/workspace/bravium/bravium_db/cliente\"\n",
    "path_trans = \"/Volumes/workspace/bravium/bravium_db/transacao\""
   ]
  },
  {
   "cell_type": "code",
   "execution_count": 0,
   "metadata": {
    "application/vnd.databricks.v1+cell": {
     "cellMetadata": {
      "byteLimit": 2048000,
      "rowLimit": 10000
     },
     "inputWidgets": {},
     "nuid": "ebd0bc6b-d232-4bec-9d3e-cb29a00ced05",
     "showTitle": false,
     "tableResultSettingsMap": {},
     "title": ""
    }
   },
   "outputs": [],
   "source": [
    "clientes = [\n",
    "    (\n",
    "        str(uuid.uuid4()), \n",
    "        f\"Cliente_{random.randint(1, 100)}\",\n",
    "        random.choice([\"SP\", \"RJ\", \"MG\", \"RS\", \"BA\"]),  \n",
    "        datetime.now()   \n",
    "    )\n",
    "    for _ in range(5)\n",
    "]\n",
    "cliente_ids = [c[0] for c in clientes]\n",
    "\n",
    "\n",
    "transacao = [\n",
    "    (\n",
    "        str(uuid.uuid4()), \n",
    "        datetime.now(),  \n",
    "        random.choice(cliente_ids),round(random.uniform(10.0, 1000.0), 2),\n",
    "        random.choice([\"PENDENTE\", \"APROVADO\", \"CANCELADO\"]) \n",
    "    )\n",
    "    for _ in range(5) \n",
    "]\n",
    "\n",
    "\n"
   ]
  },
  {
   "cell_type": "code",
   "execution_count": 0,
   "metadata": {
    "application/vnd.databricks.v1+cell": {
     "cellMetadata": {
      "byteLimit": 2048000,
      "rowLimit": 10000
     },
     "inputWidgets": {},
     "nuid": "ef14087a-19a3-4a30-b574-5c361892594f",
     "showTitle": false,
     "tableResultSettingsMap": {},
     "title": ""
    }
   },
   "outputs": [],
   "source": [
    "df_clientes = spark.createDataFrame(clientes, [\"cliente_id\", \"nome\", \"estado\", \"data_criacao\"])\n",
    "df_transacoes = spark.createDataFrame(transacao, [\"transacao_id\", \"timestamp\", \"cliente_id\", \"valor\", \"status\"])\n",
    "\n"
   ]
  },
  {
   "cell_type": "code",
   "execution_count": 0,
   "metadata": {
    "application/vnd.databricks.v1+cell": {
     "cellMetadata": {
      "byteLimit": 2048000,
      "rowLimit": 10000
     },
     "inputWidgets": {},
     "nuid": "24428ea2-b54b-4f78-9dd4-e3fdffe033fc",
     "showTitle": false,
     "tableResultSettingsMap": {},
     "title": ""
    }
   },
   "outputs": [],
   "source": [
    "df_clientes.write.mode(\"append\").parquet(path_cli)\n",
    "df_transacoes.write.mode(\"append\").parquet(path_trans)"
   ]
  }
 ],
 "metadata": {
  "application/vnd.databricks.v1+notebook": {
   "computePreferences": null,
   "dashboards": [],
   "environmentMetadata": {
    "base_environment": "",
    "environment_version": "3"
   },
   "inputWidgetPreferences": null,
   "language": "python",
   "notebookMetadata": {
    "pythonIndentUnit": 4
   },
   "notebookName": "Transaction_Generator",
   "widgets": {}
  },
  "language_info": {
   "name": "python"
  }
 },
 "nbformat": 4,
 "nbformat_minor": 0
}
