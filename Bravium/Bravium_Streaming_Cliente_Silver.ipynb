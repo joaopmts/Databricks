{
 "cells": [
  {
   "cell_type": "code",
   "execution_count": 0,
   "metadata": {
    "application/vnd.databricks.v1+cell": {
     "cellMetadata": {
      "byteLimit": 2048000,
      "rowLimit": 10000
     },
     "inputWidgets": {},
     "nuid": "591ce388-cf38-4ebd-a9a1-234eae496111",
     "showTitle": false,
     "tableResultSettingsMap": {},
     "title": ""
    }
   },
   "outputs": [],
   "source": [
    "from delta.tables import DeltaTable\n",
    "from pyspark.sql.types import StructType, StructField, StringType, DoubleType, TimestampType\n",
    "import time\n",
    "import os\n",
    "\n",
    "schema_cliente = StructType([\n",
    "    StructField(\"cliente_id\", StringType(), True),\n",
    "    StructField(\"nome\", StringType(), True), \n",
    "    StructField(\"estado\", StringType(), True),\n",
    "    StructField(\"data_criacao\", TimestampType(), True),\n",
    "])\n",
    "\n",
    "bronze = \"/Volumes/workspace/bravium/bronze/cliente/\"\n",
    "silver = \"/Volumes/workspace/bravium/silver/cliente/\""
   ]
  },
  {
   "cell_type": "code",
   "execution_count": 0,
   "metadata": {
    "application/vnd.databricks.v1+cell": {
     "cellMetadata": {
      "byteLimit": 2048000,
      "rowLimit": 10000
     },
     "inputWidgets": {},
     "nuid": "c05933ea-25a1-4c0a-a2a6-73fcd9c81ef4",
     "showTitle": false,
     "tableResultSettingsMap": {},
     "title": ""
    }
   },
   "outputs": [],
   "source": [
    "df_stream = spark.readStream\\\n",
    "    .option(\"ignoreDeletes\", \"true\")\\\n",
    "    .format(\"delta\")\\\n",
    "    .load(bronze)\n",
    "\n",
    "df_stream = (\n",
    "    df_stream.dropDuplicates([\"transacao_id\", 'timestamp'])\n",
    "             .withWatermark(\"timestamp\", \"10 minutes\")\n",
    ")"
   ]
  },
  {
   "cell_type": "code",
   "execution_count": 0,
   "metadata": {
    "application/vnd.databricks.v1+cell": {
     "cellMetadata": {
      "byteLimit": 2048000,
      "rowLimit": 10000
     },
     "inputWidgets": {},
     "nuid": "a263d344-c2ae-404d-ae35-5ddd23d2c467",
     "showTitle": false,
     "tableResultSettingsMap": {},
     "title": ""
    }
   },
   "outputs": [],
   "source": [
    "def upsert_to_delta(batch_df, batch_id):\n",
    "    batch_df.createOrReplaceTempView(\"batch_df\")\n",
    "    \n",
    "    spark.sql(\"\"\"\n",
    "        MERGE INTO silver AS t\n",
    "        USING batch_df AS s\n",
    "        ON t.transacao_id = s.transacao_id\n",
    "        WHEN MATCHED THEN\n",
    "          UPDATE SET *\n",
    "        WHEN NOT MATCHED THEN\n",
    "          INSERT *\n",
    "    \"\"\")\n",
    "\n",
    "(\n",
    "    df_stream.writeStream\n",
    "    .foreachBatch(upsert_to_delta)\n",
    "    .option(\"checkpointLocation\", \"/Volumes/workspace/bravium/silver/checkpoints/cliente\")\n",
    "    .outputMode(\"update\")\n",
    "    .trigger(availableNow=True)\n",
    "    .start()\n",
    "    .awaitTermination()\n",
    ")"
   ]
  }
 ],
 "metadata": {
  "application/vnd.databricks.v1+notebook": {
   "computePreferences": null,
   "dashboards": [],
   "environmentMetadata": {
    "base_environment": "",
    "environment_version": "3"
   },
   "inputWidgetPreferences": null,
   "language": "python",
   "notebookMetadata": {
    "pythonIndentUnit": 4
   },
   "notebookName": "Bravium_Streaming_Cliente_Silver",
   "widgets": {}
  },
  "language_info": {
   "name": "python"
  }
 },
 "nbformat": 4,
 "nbformat_minor": 0
}
