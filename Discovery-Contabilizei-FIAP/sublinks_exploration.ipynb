{
 "cells": [
  {
   "cell_type": "code",
   "execution_count": 0,
   "metadata": {
    "application/vnd.databricks.v1+cell": {
     "cellMetadata": {
      "byteLimit": 2048000,
      "rowLimit": 10000
     },
     "inputWidgets": {},
     "nuid": "db0f4902-684f-4a2a-b54a-0181c9f6e80d",
     "showTitle": false,
     "tableResultSettingsMap": {},
     "title": ""
    }
   },
   "outputs": [],
   "source": [
    "%python\n",
    "%pip install beautifulsoup4"
   ]
  },
  {
   "cell_type": "code",
   "execution_count": 0,
   "metadata": {
    "application/vnd.databricks.v1+cell": {
     "cellMetadata": {
      "byteLimit": 2048000,
      "rowLimit": 10000
     },
     "inputWidgets": {},
     "nuid": "ccfe7c37-f72a-4077-a32e-da2aa5ce8dd7",
     "showTitle": false,
     "tableResultSettingsMap": {},
     "title": ""
    }
   },
   "outputs": [],
   "source": [
    "from pyspark.sql.types import StringType"
   ]
  },
  {
   "cell_type": "code",
   "execution_count": 0,
   "metadata": {
    "application/vnd.databricks.v1+cell": {
     "cellMetadata": {
      "byteLimit": 2048000,
      "rowLimit": 10000
     },
     "inputWidgets": {},
     "nuid": "19b8286a-6440-4dd8-b9aa-2c3707f58ed3",
     "showTitle": false,
     "tableResultSettingsMap": {},
     "title": ""
    }
   },
   "outputs": [],
   "source": [
    "import requests\n",
    "from bs4 import BeautifulSoup\n",
    "\n",
    "BASE_URL_CNPJ = \"https://arquivos.receitafederal.gov.br/dados/cnpj/dados_abertos_cnpj/\"\n",
    "BASE_URL_REGIME = \"https://arquivos.receitafederal.gov.br/dados/cnpj/regime_tributario/\"\n",
    "\n",
    "def getlinks(baseurl):\n",
    "\n",
    "    res = requests.get(baseurl)\n",
    "    soup = BeautifulSoup(res.text, \"html.parser\")\n",
    "\n",
    "    todos_links = []\n",
    "\n",
    "    arquivos_raiz = [a[\"href\"] for a in soup.find_all(\"a\") if a[\"href\"].endswith(\".zip\")]\n",
    "    for arq in arquivos_raiz:\n",
    "        todos_links.append(baseurl + arq)\n",
    "\n",
    "    subpastas = [a[\"href\"] for a in soup.find_all(\"a\") if a[\"href\"].endswith(\"/\") and a[\"href\"] != \"../\"]\n",
    "\n",
    "    for sub in subpastas:\n",
    "        url_sub = baseurl + sub\n",
    "        res_sub = requests.get(url_sub)\n",
    "        soup_sub = BeautifulSoup(res_sub.text, \"html.parser\")\n",
    "\n",
    "        arquivos = [a[\"href\"] for a in soup_sub.find_all(\"a\") if a[\"href\"].endswith(\".zip\")]\n",
    "\n",
    "        for arq in arquivos:\n",
    "            link_completo = url_sub + arq\n",
    "            todos_links.append(link_completo)\n",
    "\n",
    "    for link in todos_links:\n",
    "        print(link)\n",
    "\n",
    "    return todos_links\n"
   ]
  },
  {
   "cell_type": "code",
   "execution_count": 0,
   "metadata": {
    "application/vnd.databricks.v1+cell": {
     "cellMetadata": {
      "byteLimit": 2048000,
      "rowLimit": 10000
     },
     "inputWidgets": {},
     "nuid": "43f37efd-7de5-4268-8b6f-02403c24143e",
     "showTitle": false,
     "tableResultSettingsMap": {},
     "title": ""
    }
   },
   "outputs": [],
   "source": [
    "cnpj = getlinks(BASE_URL_CNPJ)"
   ]
  },
  {
   "cell_type": "code",
   "execution_count": 0,
   "metadata": {
    "application/vnd.databricks.v1+cell": {
     "cellMetadata": {
      "byteLimit": 2048000,
      "rowLimit": 10000
     },
     "inputWidgets": {},
     "nuid": "5f87c88a-7981-4b7d-afef-57808b992f5e",
     "showTitle": false,
     "tableResultSettingsMap": {},
     "title": ""
    }
   },
   "outputs": [],
   "source": [
    "regime = getlinks(BASE_URL_REGIME)"
   ]
  },
  {
   "cell_type": "code",
   "execution_count": 0,
   "metadata": {
    "application/vnd.databricks.v1+cell": {
     "cellMetadata": {
      "byteLimit": 2048000,
      "rowLimit": 10000
     },
     "inputWidgets": {},
     "nuid": "fb0315fe-b76f-44d2-904f-067e1353bf65",
     "showTitle": false,
     "tableResultSettingsMap": {},
     "title": ""
    }
   },
   "outputs": [],
   "source": [
    "df_regime = spark.createDataFrame(regime, StringType())\n",
    "df_cnpj = spark.createDataFrame(cnpj, StringType())\n",
    "\n",
    "df_regime.write\\\n",
    "    .mode(\"overwrite\")\\\n",
    "    .format(\"json\")\\\n",
    "    .save(\"/Volumes/workspace/discovery/discovery/links/regime\")\n",
    "\n",
    "df_cnpj.write\\\n",
    "    .mode(\"overwrite\")\\\n",
    "    .format(\"json\")\\\n",
    "    .save(\"/Volumes/workspace/discovery/discovery/links/cnpj\")"
   ]
  }
 ],
 "metadata": {
  "application/vnd.databricks.v1+notebook": {
   "computePreferences": null,
   "dashboards": [],
   "environmentMetadata": {
    "base_environment": "",
    "environment_version": "3"
   },
   "inputWidgetPreferences": null,
   "language": "python",
   "notebookMetadata": {
    "pythonIndentUnit": 4
   },
   "notebookName": "sublinks_exploration",
   "widgets": {}
  },
  "language_info": {
   "name": "python"
  }
 },
 "nbformat": 4,
 "nbformat_minor": 0
}
