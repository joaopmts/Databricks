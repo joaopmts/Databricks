{
 "cells": [
  {
   "cell_type": "code",
   "execution_count": 0,
   "metadata": {
    "application/vnd.databricks.v1+cell": {
     "cellMetadata": {
      "byteLimit": 2048000,
      "rowLimit": 10000
     },
     "inputWidgets": {},
     "nuid": "013093e9-86f2-4e9d-872a-6c1bfabdf5f1",
     "showTitle": false,
     "tableResultSettingsMap": {},
     "title": ""
    }
   },
   "outputs": [],
   "source": [
    "df = spark.read\\\n",
    "        .format(\"delta\")\\\n",
    "        .load(\"/Volumes/workspace/alura/c5/bronze\")"
   ]
  },
  {
   "cell_type": "code",
   "execution_count": 0,
   "metadata": {
    "application/vnd.databricks.v1+cell": {
     "cellMetadata": {
      "byteLimit": 2048000,
      "rowLimit": 10000
     },
     "inputWidgets": {},
     "nuid": "b9e51f0f-0639-4f05-81ff-2744740e2a09",
     "showTitle": false,
     "tableResultSettingsMap": {},
     "title": ""
    }
   },
   "outputs": [],
   "source": [
    "df.printSchema()"
   ]
  },
  {
   "cell_type": "code",
   "execution_count": 0,
   "metadata": {
    "application/vnd.databricks.v1+cell": {
     "cellMetadata": {
      "byteLimit": 2048000,
      "rowLimit": 10000
     },
     "inputWidgets": {},
     "nuid": "a5791200-e359-41ad-a5a0-32a2c6a556c5",
     "showTitle": false,
     "tableResultSettingsMap": {},
     "title": ""
    }
   },
   "outputs": [],
   "source": [
    "from pyspark.sql import functions as F"
   ]
  },
  {
   "cell_type": "code",
   "execution_count": 0,
   "metadata": {
    "application/vnd.databricks.v1+cell": {
     "cellMetadata": {
      "byteLimit": 2048000,
      "rowLimit": 10000
     },
     "inputWidgets": {},
     "nuid": "c104d153-1cf7-42bc-9570-7d543cd811ea",
     "showTitle": false,
     "tableResultSettingsMap": {},
     "title": ""
    }
   },
   "outputs": [],
   "source": [
    "df_zipped = df.withColumn(\n",
    "    \"zipped\",\n",
    "    F.arrays_zip(\n",
    "        \"anuncio.area_total\",\n",
    "        \"anuncio.area_util\",\n",
    "        \"anuncio.banheiros\",\n",
    "        \"anuncio.quartos\",\n",
    "        \"anuncio.suites\",\n",
    "        \"anuncio.vaga\",\n",
    "        \"anuncio.caracteristicas\",\n",
    "        \"anuncio.valores\"\n",
    "    )\n",
    ").withColumn(\"exploded\", F.explode_outer(\"zipped\"))\n",
    "\n",
    "df_exploded = df_zipped.select(\n",
    "    F.col(\"id\").alias(\"id_externo\"),          # id raiz\n",
    "    F.col(\"anuncio.id\").alias(\"id_anuncio\"),  # id dentro do struct anuncio\n",
    "    F.col(\"anuncio.andar\"),\n",
    "    F.col(\"anuncio.tipo_anuncio\"),\n",
    "    F.col(\"anuncio.tipo_unidade\"),\n",
    "    F.col(\"anuncio.tipo_uso\"),\n",
    "\n",
    "    F.col(\"anuncio.endereco.bairro\").alias(\"bairro\"),\n",
    "    F.col(\"anuncio.endereco.cidade\").alias(\"cidade\"),\n",
    "    F.col(\"anuncio.endereco.estado\").alias(\"estado\"),\n",
    "    F.col(\"anuncio.endereco.cep\").alias(\"cep\"),\n",
    "    F.col(\"anuncio.endereco.zona\").alias(\"zona\"),\n",
    "    F.col(\"anuncio.endereco.pais\").alias(\"pais\"),\n",
    "    F.col(\"anuncio.endereco.rua\").alias(\"rua\"),\n",
    "    F.col(\"anuncio.endereco.latitude\").alias(\"latitude\"),\n",
    "    F.col(\"anuncio.endereco.longitude\").alias(\"longitude\"),\n",
    "\n",
    "    F.col(\"exploded.area_total\").alias(\"area_total\"),\n",
    "    F.col(\"exploded.area_util\").alias(\"area_util\"),\n",
    "    F.col(\"exploded.banheiros\").alias(\"banheiros\"),\n",
    "    F.col(\"exploded.quartos\").alias(\"quartos\"),\n",
    "    F.col(\"exploded.suites\").alias(\"suites\"),\n",
    "    F.col(\"exploded.vaga\").alias(\"vaga\"),\n",
    "    F.col(\"exploded.caracteristicas\").alias(\"caracteristica\"),\n",
    "\n",
    "    F.col(\"exploded.valores.condominio\").alias(\"condominio\"),\n",
    "    F.col(\"exploded.valores.iptu\").alias(\"iptu\"),\n",
    "    F.col(\"exploded.valores.tipo\").alias(\"tipo_valor\"),\n",
    "    F.col(\"exploded.valores.valor\").alias(\"valor_valor\")\n",
    ")"
   ]
  },
  {
   "cell_type": "code",
   "execution_count": 0,
   "metadata": {
    "application/vnd.databricks.v1+cell": {
     "cellMetadata": {
      "byteLimit": 2048000,
      "rowLimit": 10000
     },
     "inputWidgets": {},
     "nuid": "708a04aa-5a91-4a75-bf0a-1f257ffd5a77",
     "showTitle": false,
     "tableResultSettingsMap": {},
     "title": ""
    }
   },
   "outputs": [],
   "source": [
    "df_detalhado_alura = df.select(\"anuncio.*\", \"anuncio.endereco.*\")"
   ]
  },
  {
   "cell_type": "code",
   "execution_count": 0,
   "metadata": {
    "application/vnd.databricks.v1+cell": {
     "cellMetadata": {
      "byteLimit": 2048000,
      "rowLimit": 10000
     },
     "inputWidgets": {},
     "nuid": "4201a88b-ddaa-4661-bf21-45e5774847e3",
     "showTitle": false,
     "tableResultSettingsMap": {},
     "title": ""
    }
   },
   "outputs": [],
   "source": [
    "df_exploded.write\\\n",
    "    .format(\"delta\")\\\n",
    "    .mode(\"overwrite\")\\\n",
    "    .save(\"/Volumes/workspace/alura/c5/silver/exploded\")\n",
    "\n",
    "df_detalhado_alura.write\\\n",
    "    .format(\"delta\")\\\n",
    "    .mode(\"overwrite\")\\\n",
    "    .save(\"/Volumes/workspace/alura/c5/silver/alura\")"
   ]
  }
 ],
 "metadata": {
  "application/vnd.databricks.v1+notebook": {
   "computePreferences": null,
   "dashboards": [],
   "environmentMetadata": {
    "base_environment": "",
    "environment_version": "3"
   },
   "inputWidgetPreferences": null,
   "language": "python",
   "notebookMetadata": {
    "pythonIndentUnit": 4
   },
   "notebookName": "bronze_to_silver",
   "widgets": {}
  },
  "language_info": {
   "name": "python"
  }
 },
 "nbformat": 4,
 "nbformat_minor": 0
}
