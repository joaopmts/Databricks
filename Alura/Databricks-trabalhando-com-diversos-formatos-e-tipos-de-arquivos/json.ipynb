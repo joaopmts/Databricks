{
 "cells": [
  {
   "cell_type": "code",
   "execution_count": 0,
   "metadata": {
    "application/vnd.databricks.v1+cell": {
     "cellMetadata": {
      "byteLimit": 2048000,
      "rowLimit": 10000
     },
     "inputWidgets": {},
     "nuid": "47fbe35e-6afb-457f-9e6b-2b4218ce8c83",
     "showTitle": false,
     "tableResultSettingsMap": {},
     "title": ""
    }
   },
   "outputs": [],
   "source": [
    "display(dbutils.fs.ls('/Volumes/workspace/alura/c2/json'))"
   ]
  },
  {
   "cell_type": "code",
   "execution_count": 0,
   "metadata": {
    "application/vnd.databricks.v1+cell": {
     "cellMetadata": {
      "byteLimit": 2048000,
      "rowLimit": 10000
     },
     "inputWidgets": {},
     "nuid": "025c96df-b922-4ab5-9e7a-058bd28d74d1",
     "showTitle": false,
     "tableResultSettingsMap": {},
     "title": ""
    }
   },
   "outputs": [],
   "source": [
    "from pyspark.sql.functions import col\n",
    "from pyspark.sql.types import IntegerType\n",
    "from pyspark.sql import functions as F\n",
    "\n",
    "df = spark.read.json(\"/Volumes/workspace/alura/c2/json/saneamento_gov.json\")\n",
    "\n",
    "df = df.withColumnRenamed(\"D1C\",\"cod_regiao\") \\\n",
    "            .withColumnRenamed(\"D1N\", \"regiao\")\\\n",
    "            .withColumnRenamed(\"D2C\",\"cod_variavel\") \\\n",
    "            .withColumnRenamed(\"D2N\", \"variavel\") \\\n",
    "            .withColumnRenamed(\"D3C\", \"cod_ano\") \\\n",
    "            .withColumnRenamed(\"D3N\", \"ano\") \\\n",
    "            .withColumnRenamed(\"D4C\",\"cod_doenca\") \\\n",
    "            .withColumnRenamed(\"D4N\", \"doenca\") \\\n",
    "            .withColumnRenamed(\"MC\",\"cod_medida\") \\\n",
    "            .withColumnRenamed(\"MN\", \"medida\") \\\n",
    "            .withColumnRenamed(\"NC\",\"cod_nivel_territorial\") \\\n",
    "            .withColumnRenamed(\"NN\", \"nivel territorial\") \\\n",
    "            .withColumnRenamed(\"V\",\"valor\")\n",
    "\n",
    "df = df.filter(df.valor != 'Valor')\n",
    "\n",
    "df = df.withColumn(\n",
    "    \"valor\",\n",
    "    F.when(F.col(\"valor\") == \"-\", None).otherwise(F.col(\"valor\").cast(IntegerType()))\n",
    ")\n"
   ]
  },
  {
   "cell_type": "code",
   "execution_count": 0,
   "metadata": {
    "application/vnd.databricks.v1+cell": {
     "cellMetadata": {
      "byteLimit": 2048000,
      "rowLimit": 10000
     },
     "inputWidgets": {},
     "nuid": "95df27df-8514-49b0-a3d2-c68f6dc51f46",
     "showTitle": false,
     "tableResultSettingsMap": {},
     "title": ""
    }
   },
   "outputs": [],
   "source": [
    "\n",
    "\n",
    "df = df.withColumn (\"cod_regiao\", col(\"cod_regiao\").cast (IntegerType()))\\\n",
    "        .withColumn(\"cod_variavel\", col(\"cod_variavel\").cast (IntegerType()))\\\n",
    "        .withColumn(\"cod_ano\", col(\"cod_ano\").cast (IntegerType()))\\\n",
    "        .withColumn(\"ano\", col(\"ano\").cast (IntegerType()))\\\n",
    "        .withColumn(\"cod_doenca\", col(\"cod_doenca\").cast (IntegerType()))\\\n",
    "        .withColumn(\"cod_medida\", col(\"cod_medida\").cast (IntegerType()))\\\n",
    "        .withColumn(\"cod_nivel_territorial\", col(\"cod_nivel_territorial\").cast (IntegerType()))\\\n",
    "        .withColumn(\"valor\", col(\"valor\").cast (IntegerType()))\n",
    "\n",
    "display(df)\n"
   ]
  },
  {
   "cell_type": "code",
   "execution_count": 0,
   "metadata": {
    "application/vnd.databricks.v1+cell": {
     "cellMetadata": {
      "byteLimit": 2048000,
      "rowLimit": 10000
     },
     "inputWidgets": {},
     "nuid": "c685663c-2c75-43f7-bfbd-4d5ac60a8de0",
     "showTitle": false,
     "tableResultSettingsMap": {},
     "title": ""
    }
   },
   "outputs": [],
   "source": [
    "#Compactando JSON\n",
    "df.write \\\n",
    "    .option(\"compression\", \"gzip\") \\\n",
    "    .mode(\"overwrite\") \\\n",
    "    .format(\"json\") \\\n",
    "    .save(\"/Volumes/workspace/alura/c2/json/json_gzip\")\n"
   ]
  },
  {
   "cell_type": "code",
   "execution_count": 0,
   "metadata": {
    "application/vnd.databricks.v1+cell": {
     "cellMetadata": {
      "byteLimit": 2048000,
      "rowLimit": 10000
     },
     "inputWidgets": {},
     "nuid": "4ede6d2f-555b-4ffe-8dce-33d61939af75",
     "showTitle": false,
     "tableResultSettingsMap": {},
     "title": ""
    }
   },
   "outputs": [],
   "source": [
    "display(dbutils.fs.ls('/Volumes/workspace/alura/c2/json/json_gzip'))"
   ]
  },
  {
   "cell_type": "code",
   "execution_count": 0,
   "metadata": {
    "application/vnd.databricks.v1+cell": {
     "cellMetadata": {
      "byteLimit": 2048000,
      "rowLimit": 10000
     },
     "inputWidgets": {},
     "nuid": "abefcee0-d955-4879-b18b-ee4218d68fec",
     "showTitle": false,
     "tableResultSettingsMap": {},
     "title": ""
    }
   },
   "outputs": [],
   "source": [
    "df = spark.read.json('/Volumes/workspace/alura/c2/json/json_gzip/')\n",
    "display(df)"
   ]
  },
  {
   "cell_type": "code",
   "execution_count": 0,
   "metadata": {
    "application/vnd.databricks.v1+cell": {
     "cellMetadata": {
      "byteLimit": 2048000,
      "rowLimit": 10000
     },
     "inputWidgets": {},
     "nuid": "a96a571a-2cf8-4580-be17-7f9d7b7b3917",
     "showTitle": false,
     "tableResultSettingsMap": {},
     "title": ""
    }
   },
   "outputs": [],
   "source": [
    "df.write \\\n",
    "    .option(\"header\", True) \\\n",
    "    .option(\"delimiter\", \",\") \\\n",
    "    .mode(\"overwrite\") \\\n",
    "    .csv(\"/Volumes/workspace/alura/c2/csv/\")\n"
   ]
  }
 ],
 "metadata": {
  "application/vnd.databricks.v1+notebook": {
   "computePreferences": null,
   "dashboards": [],
   "environmentMetadata": {
    "base_environment": "",
    "environment_version": "3"
   },
   "inputWidgetPreferences": null,
   "language": "python",
   "notebookMetadata": {
    "pythonIndentUnit": 4
   },
   "notebookName": "json",
   "widgets": {}
  },
  "language_info": {
   "name": "python"
  }
 },
 "nbformat": 4,
 "nbformat_minor": 0
}
