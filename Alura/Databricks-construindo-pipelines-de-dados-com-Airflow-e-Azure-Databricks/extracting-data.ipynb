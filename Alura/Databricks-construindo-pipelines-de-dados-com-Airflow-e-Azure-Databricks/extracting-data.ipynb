{
 "cells": [
  {
   "cell_type": "code",
   "execution_count": 0,
   "metadata": {
    "application/vnd.databricks.v1+cell": {
     "cellMetadata": {
      "byteLimit": 2048000,
      "rowLimit": 10000
     },
     "inputWidgets": {},
     "nuid": "ee3cf472-8d1a-4823-b5d5-d487a82a0865",
     "showTitle": false,
     "tableResultSettingsMap": {},
     "title": ""
    }
   },
   "outputs": [],
   "source": [
    "import requests\n",
    "\n",
    "date=\"2025-07-01\"\n",
    "base = \"BRL\"\n",
    "\n",
    "url = f\"https://api.apilayer.com/exchangerates_data/{date}&base={base}\"\n",
    "\n",
    "payload = {}\n",
    "headers = {\n",
    "    \"apikey\": \"JACfv5Rwj1u3Gqmc4bcK8iaB5aC1PilH\"\n",
    "}\n",
    "\n",
    "response = requests.request(\"GET\", url, headers=headers, data = payload)\n",
    "\n",
    "status_code= response.status_code\n",
    "result = response.text\n"
   ]
  },
  {
   "cell_type": "code",
   "execution_count": 0,
   "metadata": {
    "application/vnd.databricks.v1+cell": {
     "cellMetadata": {
      "byteLimit": 2048000,
      "rowLimit": 10000
     },
     "inputWidgets": {},
     "nuid": "7d1c8568-5691-4a5d-99f5-72bbc41d0e5e",
     "showTitle": false,
     "tableResultSettingsMap": {},
     "title": ""
    }
   },
   "outputs": [],
   "source": [
    "print(result)"
   ]
  }
 ],
 "metadata": {
  "application/vnd.databricks.v1+notebook": {
   "computePreferences": null,
   "dashboards": [],
   "environmentMetadata": {
    "base_environment": "",
    "environment_version": "4"
   },
   "inputWidgetPreferences": null,
   "language": "python",
   "notebookMetadata": {
    "pythonIndentUnit": 4
   },
   "notebookName": "extracting-data",
   "widgets": {}
  },
  "language_info": {
   "name": "python"
  }
 },
 "nbformat": 4,
 "nbformat_minor": 0
}
