{
 "cells": [
  {
   "cell_type": "code",
   "execution_count": 0,
   "metadata": {
    "application/vnd.databricks.v1+cell": {
     "cellMetadata": {
      "byteLimit": 2048000,
      "rowLimit": 10000
     },
     "inputWidgets": {},
     "nuid": "ee3cf472-8d1a-4823-b5d5-d487a82a0865",
     "showTitle": false,
     "tableResultSettingsMap": {},
     "title": ""
    }
   },
   "outputs": [],
   "source": [
    "import requests\n",
    "from pyspark.sql.functions import to_date, year, month, dayofmonth\n",
    "from pyspark.sql.types import StructType, StructField, StringType, DoubleType\n",
    "\n",
    "\n",
    "def extract_data(data, base=\"BRL\"):\n",
    "    import requests\n",
    "\n",
    "    url = f\"https://api.apilayer.com/exchangerates_data/{data}\"\n",
    "    headers = {\n",
    "        \"apikey\": \"JACfv5Rwj1u3Gqmc4bcK8iaB5aC1PilH\"\n",
    "    }\n",
    "    parameters = {\"base\": base}\n",
    "\n",
    "    response = requests.request(\n",
    "        \"GET\",\n",
    "        url,\n",
    "        headers=headers,\n",
    "        params=parameters\n",
    "    )\n",
    "\n",
    "    if response.status_code != 200:\n",
    "        raise Exception(\"Not Found\")\n",
    "\n",
    "    return response.json()\n"
   ]
  },
  {
   "cell_type": "code",
   "execution_count": 0,
   "metadata": {
    "application/vnd.databricks.v1+cell": {
     "cellMetadata": {
      "byteLimit": 2048000,
      "rowLimit": 10000
     },
     "inputWidgets": {},
     "nuid": "ba86c6e1-fc86-483d-a2ae-b7d1fda540d4",
     "showTitle": false,
     "tableResultSettingsMap": {},
     "title": ""
    }
   },
   "outputs": [],
   "source": [
    "data = extract_data(\"2024-09-07\")"
   ]
  },
  {
   "cell_type": "code",
   "execution_count": 0,
   "metadata": {
    "application/vnd.databricks.v1+cell": {
     "cellMetadata": {
      "byteLimit": 2048000,
      "rowLimit": 10000
     },
     "inputWidgets": {},
     "nuid": "f8cbc845-d39c-498a-98b2-dae8bc9682b7",
     "showTitle": false,
     "tableResultSettingsMap": {},
     "title": ""
    }
   },
   "outputs": [],
   "source": [
    "ano, mes, dia = data['date'].split('-')"
   ]
  },
  {
   "cell_type": "code",
   "execution_count": 0,
   "metadata": {
    "application/vnd.databricks.v1+cell": {
     "cellMetadata": {
      "byteLimit": 2048000,
      "rowLimit": 10000
     },
     "inputWidgets": {},
     "nuid": "641a85c3-a14e-4f76-96df-61c8c59cacb8",
     "showTitle": false,
     "tableResultSettingsMap": {},
     "title": ""
    }
   },
   "outputs": [],
   "source": [
    "dbutils.fs.ls(\"/Volumes/airflow_databricks/default/bronze\")"
   ]
  },
  {
   "cell_type": "code",
   "execution_count": 0,
   "metadata": {
    "application/vnd.databricks.v1+cell": {
     "cellMetadata": {
      "byteLimit": 2048000,
      "rowLimit": 10000
     },
     "inputWidgets": {},
     "nuid": "86784bb5-9eae-4ea8-b8b1-30b8e2af9194",
     "showTitle": false,
     "tableResultSettingsMap": {},
     "title": ""
    }
   },
   "outputs": [],
   "source": [
    "rows = [\n",
    "    {\"moeda\": k, \"taxa\": float(v), \"base\": data[\"base\"], \"data\": data[\"date\"]}\n",
    "    for k, v in data[\"rates\"].items()\n",
    "]"
   ]
  },
  {
   "cell_type": "code",
   "execution_count": 0,
   "metadata": {
    "application/vnd.databricks.v1+cell": {
     "cellMetadata": {
      "byteLimit": 2048000,
      "rowLimit": 10000
     },
     "inputWidgets": {},
     "nuid": "61978b65-c0fe-4cd6-9304-38431ab4218b",
     "showTitle": false,
     "tableResultSettingsMap": {},
     "title": ""
    }
   },
   "outputs": [],
   "source": [
    "schema = StructType([\n",
    "    StructField(\"moeda\", StringType(), True),\n",
    "    StructField(\"taxa\", DoubleType(), True),\n",
    "    StructField(\"base\", StringType(), True),\n",
    "    StructField(\"data\", StringType(), True)\n",
    "])\n",
    "\n",
    "df = spark.createDataFrame(rows, schema=schema)\n",
    "\n",
    "df = df.withColumn(\"data_dt\", to_date(\"data\"))\\\n",
    "      .withColumn(\"ano\",  year(\"data_dt\"))\\\n",
    "      .withColumn(\"mes\",  month(\"data_dt\"))\\\n",
    "      .withColumn(\"dia\",  dayofmonth(\"data_dt\"))\\\n",
    "      .drop(\"data\")\n",
    "\n",
    "df.show()"
   ]
  },
  {
   "cell_type": "code",
   "execution_count": 0,
   "metadata": {
    "application/vnd.databricks.v1+cell": {
     "cellMetadata": {
      "byteLimit": 2048000,
      "rowLimit": 10000
     },
     "inputWidgets": {},
     "nuid": "4aa1ec38-e404-43ed-9c9a-ca67bc501795",
     "showTitle": false,
     "tableResultSettingsMap": {},
     "title": ""
    }
   },
   "outputs": [],
   "source": [
    "df.write \\\n",
    "  .format(\"delta\") \\\n",
    "  .mode(\"overwrite\") \\\n",
    "  .partitionBy(\"ano\",\"mes\",\"dia\")\\\n",
    "  .save(\"/Volumes/airflow_databricks/default/bronze\")"
   ]
  },
  {
   "cell_type": "code",
   "execution_count": 0,
   "metadata": {
    "application/vnd.databricks.v1+cell": {
     "cellMetadata": {
      "byteLimit": 2048000,
      "rowLimit": 10000
     },
     "inputWidgets": {},
     "nuid": "57ce6783-fc36-46ae-ac3d-edbc15be0435",
     "showTitle": false,
     "tableResultSettingsMap": {},
     "title": ""
    }
   },
   "outputs": [],
   "source": [
    "path = \"/Volumes/airflow_databricks/default/bronze\"\n",
    "\n",
    "df_all = spark.read.format(\"delta\").load(path)\n",
    "\n",
    "display(df_all)"
   ]
  }
 ],
 "metadata": {
  "application/vnd.databricks.v1+notebook": {
   "computePreferences": null,
   "dashboards": [],
   "environmentMetadata": {
    "base_environment": "",
    "environment_version": "4"
   },
   "inputWidgetPreferences": null,
   "language": "python",
   "notebookMetadata": {
    "pythonIndentUnit": 4
   },
   "notebookName": "extracting-data",
   "widgets": {}
  },
  "language_info": {
   "name": "python"
  }
 },
 "nbformat": 4,
 "nbformat_minor": 0
}
