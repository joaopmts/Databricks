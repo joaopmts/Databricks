{
 "cells": [
  {
   "cell_type": "code",
   "execution_count": 0,
   "metadata": {
    "application/vnd.databricks.v1+cell": {
     "cellMetadata": {
      "byteLimit": 2048000,
      "rowLimit": 10000
     },
     "inputWidgets": {},
     "nuid": "71734914-3019-4fbc-a5a4-8ee1027126bb",
     "showTitle": false,
     "tableResultSettingsMap": {},
     "title": ""
    }
   },
   "outputs": [],
   "source": [
    "import requests\n",
    "from pyspark.sql.functions import to_date, year, month, dayofmonth\n",
    "from pyspark.sql.types import StructType, StructField, StringType, DoubleType"
   ]
  },
  {
   "cell_type": "code",
   "execution_count": 0,
   "metadata": {
    "application/vnd.databricks.v1+cell": {
     "cellMetadata": {
      "byteLimit": 2048000,
      "rowLimit": 10000
     },
     "inputWidgets": {},
     "nuid": "ee3cf472-8d1a-4823-b5d5-d487a82a0865",
     "showTitle": false,
     "tableResultSettingsMap": {},
     "title": ""
    }
   },
   "outputs": [],
   "source": [
    "def extract_data(data, base=\"BRL\"):\n",
    "    import requests\n",
    "\n",
    "    url = f\"https://api.apilayer.com/exchangerates_data/{data}\"\n",
    "    headers = {\n",
    "        \"apikey\": \"JACfv5Rwj1u3Gqmc4bcK8iaB5aC1PilH\"\n",
    "    }\n",
    "    parameters = {\"base\": base}\n",
    "\n",
    "    response = requests.request(\n",
    "        \"GET\",\n",
    "        url,\n",
    "        headers=headers,\n",
    "        params=parameters\n",
    "    )\n",
    "\n",
    "    if response.status_code != 200:\n",
    "        raise Exception(\"Not Found\")\n",
    "\n",
    "    return response.json()"
   ]
  },
  {
   "cell_type": "code",
   "execution_count": 0,
   "metadata": {
    "application/vnd.databricks.v1+cell": {
     "cellMetadata": {
      "byteLimit": 2048000,
      "rowLimit": 10000
     },
     "inputWidgets": {},
     "nuid": "08ac5a27-c692-46a7-a887-70383cff49f5",
     "showTitle": false,
     "tableResultSettingsMap": {},
     "title": ""
    }
   },
   "outputs": [],
   "source": [
    "def save_to_delta(extraction):\n",
    "    rows = [{\"moeda\": k, \"taxa\": float(v), \"base\": extraction[\"base\"], \"data\": extraction[\"date\"]}\n",
    "    for k, v in extraction[\"rates\"].items()]\n",
    "\n",
    "    schema = StructType([\n",
    "        StructField(\"moeda\", StringType(), True),\n",
    "        StructField(\"taxa\", DoubleType(), True),\n",
    "        StructField(\"base\", StringType(), True),\n",
    "        StructField(\"data\", StringType(), True)\n",
    "    ])\n",
    "\n",
    "    df = spark.createDataFrame(rows, schema=schema)\n",
    "\n",
    "    df = df.withColumn(\"data_dt\", to_date(\"data\"))\\\n",
    "        .withColumn(\"ano\",  year(\"data_dt\"))\\\n",
    "        .withColumn(\"mes\",  month(\"data_dt\"))\\\n",
    "        .withColumn(\"dia\",  dayofmonth(\"data_dt\"))\\\n",
    "        .drop(\"data\")\n",
    "\n",
    "\n",
    "    df.write \\\n",
    "        .format(\"delta\") \\\n",
    "        .mode(\"overwrite\") \\\n",
    "        .partitionBy(\"ano\",\"mes\",\"dia\")\\\n",
    "        .save(\"/Volumes/airflow_databricks/default/bronze\")\n",
    "\n",
    "    print(f\"Data saved to delta lake at /Volumes/airflow_databricks/default/bronze\")"
   ]
  },
  {
   "cell_type": "code",
   "execution_count": 0,
   "metadata": {
    "application/vnd.databricks.v1+cell": {
     "cellMetadata": {
      "byteLimit": 2048000,
      "rowLimit": 10000
     },
     "inputWidgets": {},
     "nuid": "952d5bfb-5a50-4230-be0f-3da69fe28915",
     "showTitle": false,
     "tableResultSettingsMap": {},
     "title": ""
    }
   },
   "outputs": [],
   "source": [
    "cotacoes = extract_data(\"2023-01-01\")\n",
    "save_to_delta(cotacoes)\n"
   ]
  }
 ],
 "metadata": {
  "application/vnd.databricks.v1+notebook": {
   "computePreferences": null,
   "dashboards": [],
   "environmentMetadata": {
    "base_environment": "",
    "environment_version": "4"
   },
   "inputWidgetPreferences": null,
   "language": "python",
   "notebookMetadata": {
    "pythonIndentUnit": 4
   },
   "notebookName": "extraction-data-dag",
   "widgets": {}
  },
  "language_info": {
   "name": "python"
  }
 },
 "nbformat": 4,
 "nbformat_minor": 0
}
