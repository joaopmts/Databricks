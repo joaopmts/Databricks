{
 "cells": [
  {
   "cell_type": "code",
   "execution_count": 0,
   "metadata": {
    "application/vnd.databricks.v1+cell": {
     "cellMetadata": {
      "byteLimit": 2048000,
      "rowLimit": 10000
     },
     "inputWidgets": {},
     "nuid": "4433b5d0-0830-43fb-97e8-9ac8d1423d76",
     "showTitle": false,
     "tableResultSettingsMap": {},
     "title": ""
    }
   },
   "outputs": [],
   "source": [
    "dbutils.widgets.text(\"data_execucao\", \"\")\n",
    "data_execucao = dbutils.widgets.get(\"data_execucao\")"
   ]
  },
  {
   "cell_type": "code",
   "execution_count": 0,
   "metadata": {
    "application/vnd.databricks.v1+cell": {
     "cellMetadata": {
      "byteLimit": 2048000,
      "rowLimit": 10000
     },
     "inputWidgets": {},
     "nuid": "71734914-3019-4fbc-a5a4-8ee1027126bb",
     "showTitle": false,
     "tableResultSettingsMap": {},
     "title": ""
    }
   },
   "outputs": [],
   "source": [
    "import requests\n",
    "from pyspark.sql.functions import to_date, year, month, dayofmonth\n",
    "from pyspark.sql import functions as F\n",
    "from pyspark.sql.types import StructType, StructField, StringType, DoubleType\n",
    "import requests\n",
    "from pyspark.sql.types import StructType, StructField, StringType, DateType, DoubleType\n"
   ]
  },
  {
   "cell_type": "code",
   "execution_count": 0,
   "metadata": {
    "application/vnd.databricks.v1+cell": {
     "cellMetadata": {
      "byteLimit": 2048000,
      "rowLimit": 10000
     },
     "inputWidgets": {},
     "nuid": "1288a50c-b839-476a-a819-b902f2654919",
     "showTitle": false,
     "tableResultSettingsMap": {},
     "title": ""
    }
   },
   "outputs": [],
   "source": [
    "import requests\n",
    "import time\n",
    "import datetime\n",
    "import pandas as pd\n",
    "\n",
    "def get_closing_price(coin_id, date_str, vs_currency=\"usd\"):\n",
    "    date_obj = datetime.datetime.strptime(date_str, \"%Y-%m-%d\")\n",
    "    start_ts = int(time.mktime(date_obj.timetuple()))\n",
    "    end_ts = int(time.mktime((date_obj + datetime.timedelta(days=1)).timetuple()))\n",
    "\n",
    "    url = f\"https://api.coingecko.com/api/v3/coins/{coin_id}/market_chart/range\"\n",
    "    params = {\n",
    "        \"vs_currency\": vs_currency,\n",
    "        \"from\": start_ts,\n",
    "        \"to\": end_ts\n",
    "    }\n",
    "\n",
    "    r = requests.get(url, params=params)\n",
    "    data = r.json()\n",
    "\n",
    "    return data[\"prices\"][-1][1]"
   ]
  },
  {
   "cell_type": "code",
   "execution_count": 0,
   "metadata": {
    "application/vnd.databricks.v1+cell": {
     "cellMetadata": {
      "byteLimit": 2048000,
      "rowLimit": 10000
     },
     "inputWidgets": {},
     "nuid": "a8714e2c-7258-4232-b9e6-50de24a2196b",
     "showTitle": false,
     "tableResultSettingsMap": {},
     "title": ""
    }
   },
   "outputs": [],
   "source": [
    "def get_multiple_closings(coin_list, date_str, vs_currency=\"usd\"):\n",
    "    results = []\n",
    "    for coin in coin_list:\n",
    "        price = get_closing_price(coin, date_str, vs_currency)\n",
    "        results.append({\n",
    "            \"moeda\": coin,\n",
    "            \"data\": date_str,\n",
    "            \"fechamento\": price\n",
    "        })\n",
    "        time.sleep(1)\n",
    "\n",
    "    return results"
   ]
  },
  {
   "cell_type": "code",
   "execution_count": 0,
   "metadata": {
    "application/vnd.databricks.v1+cell": {
     "cellMetadata": {
      "byteLimit": 2048000,
      "rowLimit": 10000
     },
     "inputWidgets": {},
     "nuid": "f8db7fd0-8e11-44d5-8b22-a96a65ed2c3b",
     "showTitle": false,
     "tableResultSettingsMap": {},
     "title": ""
    }
   },
   "outputs": [],
   "source": [
    "coins = [\n",
    "    \"bitcoin\", \"ethereum\", \"solana\", \"binancecoin\", \"ripple\", \"dogecoin\", \"tron\", \"cardano\"\n",
    "]\n",
    "\n",
    "\n",
    "results = get_multiple_closings(coins, data_execucao)"
   ]
  },
  {
   "cell_type": "code",
   "execution_count": 0,
   "metadata": {
    "application/vnd.databricks.v1+cell": {
     "cellMetadata": {
      "byteLimit": 2048000,
      "rowLimit": 10000
     },
     "inputWidgets": {},
     "nuid": "395b8e3b-446a-4a24-b3fe-617d2293d249",
     "showTitle": false,
     "tableResultSettingsMap": {},
     "title": ""
    }
   },
   "outputs": [],
   "source": [
    "schema_tmp = StructType([\n",
    "    StructField(\"moeda\", StringType(), False),\n",
    "    StructField(\"data\",  StringType(),  False),   # <- string por enquanto\n",
    "    StructField(\"fechamento\", DoubleType(), True),\n",
    "])\n",
    "\n",
    "df = (\n",
    "    spark.createDataFrame(results, schema=schema_tmp)\n",
    "        .withColumn(\"data\", F.to_date(\"data\", \"yyyy-MM-dd\"))  \n",
    "        .withColumn(\"fechamento\", F.col(\"fechamento\").cast(\"double\"))\n",
    "        .withColumn(\"ano\", F.year(\"data\"))\n",
    "        .withColumn(\"mes\", F.month(\"data\"))\n",
    "        .withColumn(\"dia\", F.dayofmonth(\"data\"))\n",
    ")"
   ]
  },
  {
   "cell_type": "code",
   "execution_count": 0,
   "metadata": {
    "application/vnd.databricks.v1+cell": {
     "cellMetadata": {
      "byteLimit": 2048000,
      "implicitDf": true,
      "rowLimit": 10000
     },
     "inputWidgets": {},
     "nuid": "ca366853-e244-41c1-8ef2-b22ecd0fb179",
     "showTitle": false,
     "tableResultSettingsMap": {},
     "title": ""
    }
   },
   "outputs": [],
   "source": [
    "%sql\n",
    "CREATE TABLE IF NOT EXISTS airflow_databricks.default.bronze (\n",
    "  moeda STRING,\n",
    "  data DATE,\n",
    "  fechamento DOUBLE,\n",
    "  ano INT,\n",
    "  mes INT,\n",
    "  dia INT\n",
    ")\n",
    "USING DELTA\n",
    "PARTITIONED BY (ano, mes, dia)"
   ]
  },
  {
   "cell_type": "code",
   "execution_count": 0,
   "metadata": {
    "application/vnd.databricks.v1+cell": {
     "cellMetadata": {
      "byteLimit": 2048000,
      "rowLimit": 10000
     },
     "inputWidgets": {},
     "nuid": "cf468b04-7d8b-4c99-90b3-14964ebe2943",
     "showTitle": false,
     "tableResultSettingsMap": {},
     "title": ""
    }
   },
   "outputs": [],
   "source": [
    "df.write\\\n",
    "    .format(\"delta\")\\\n",
    "    .mode(\"append\")\\\n",
    "    .insertInto(\"airflow_databricks.default.bronze\")"
   ]
  }
 ],
 "metadata": {
  "application/vnd.databricks.v1+notebook": {
   "computePreferences": null,
   "dashboards": [],
   "environmentMetadata": {
    "base_environment": "",
    "environment_version": "4"
   },
   "inputWidgetPreferences": null,
   "language": "python",
   "notebookMetadata": {
    "mostRecentlyExecutedCommandWithImplicitDF": {
     "commandId": 5442980668386122,
     "dataframes": [
      "_sqldf"
     ]
    },
    "pythonIndentUnit": 4
   },
   "notebookName": "coingeko-dag",
   "widgets": {
    "data_execucao": {
     "currentValue": "",
     "nuid": "4f490c12-3893-481b-b4c9-79fa30a05057",
     "typedWidgetInfo": {
      "autoCreated": false,
      "defaultValue": "",
      "label": null,
      "name": "data_execucao",
      "options": {
       "widgetDisplayType": "Text",
       "validationRegex": null
      },
      "parameterDataType": "String"
     },
     "widgetInfo": {
      "widgetType": "text",
      "defaultValue": "",
      "label": null,
      "name": "data_execucao",
      "options": {
       "widgetType": "text",
       "autoCreated": null,
       "validationRegex": null
      }
     }
    }
   }
  },
  "language_info": {
   "name": "python"
  }
 },
 "nbformat": 4,
 "nbformat_minor": 0
}
