{
 "cells": [
  {
   "cell_type": "code",
   "execution_count": 0,
   "metadata": {
    "application/vnd.databricks.v1+cell": {
     "cellMetadata": {
      "byteLimit": 2048000,
      "rowLimit": 10000
     },
     "inputWidgets": {},
     "nuid": "ad50d5d8-3485-47fe-bda7-d689317a278e",
     "showTitle": false,
     "tableResultSettingsMap": {},
     "title": ""
    }
   },
   "outputs": [],
   "source": [
    "display(dbutils.fs.ls('/Volumes/workspace/alura/c3'))\n",
    "\n",
    "path = '/Volumes/workspace/alura/c3'\n",
    "\n",
    "import os\n",
    "from pyspark.sql import functions as F\n",
    "from pyspark.sql.window import Window\n",
    "from pyspark.sql.window import Window\n",
    "import matplotlib.pyplot as plt\n",
    "import plotly.express as px\n",
    "\n",
    "%pip install Jinja2"
   ]
  },
  {
   "cell_type": "code",
   "execution_count": 0,
   "metadata": {
    "application/vnd.databricks.v1+cell": {
     "cellMetadata": {
      "byteLimit": 2048000,
      "rowLimit": 10000
     },
     "inputWidgets": {},
     "nuid": "68cf7534-735b-4565-b4d4-9ee383bc9964",
     "showTitle": false,
     "tableResultSettingsMap": {},
     "title": ""
    }
   },
   "outputs": [],
   "source": [
    "cursos_raw = spark.read\\\n",
    "    .option('header', 'true')\\\n",
    "    .option('inferSchema', 'true')\\\n",
    "    .format('csv')\\\n",
    "    .load(os.path.join(path,'cursos-prouni.csv'))\n",
    "\n",
    "reajuste_raw = spark.read\\\n",
    "    .option('header', 'true')\\\n",
    "    .option('inferSchema', 'true')\\\n",
    "    .format('csv')\\\n",
    "    .load(os.path.join(path, 'reajuste.csv'))"
   ]
  },
  {
   "cell_type": "code",
   "execution_count": 0,
   "metadata": {
    "application/vnd.databricks.v1+cell": {
     "cellMetadata": {
      "byteLimit": 2048000,
      "rowLimit": 10000
     },
     "inputWidgets": {},
     "nuid": "4bb77c12-d389-49b7-bbf8-f979cacbdf76",
     "showTitle": false,
     "tableResultSettingsMap": {
      "0": {
       "dataGridStateBlob": "{\"version\":1,\"tableState\":{\"columnPinning\":{\"left\":[\"#row_number#\"],\"right\":[]},\"columnSizing\":{},\"columnVisibility\":{}},\"settings\":{\"columns\":{}},\"syncTimestamp\":1758312323767}",
       "filterBlob": null,
       "queryPlanFiltersBlob": null,
       "tableResultIndex": 0
      }
     },
     "title": ""
    }
   },
   "outputs": [],
   "source": [
    "display(cursos_raw.limit(5))"
   ]
  },
  {
   "cell_type": "code",
   "execution_count": 0,
   "metadata": {
    "application/vnd.databricks.v1+cell": {
     "cellMetadata": {
      "byteLimit": 2048000,
      "rowLimit": 10000
     },
     "inputWidgets": {},
     "nuid": "2bc5f35f-d816-4950-9a06-fb9d92217ea4",
     "showTitle": false,
     "tableResultSettingsMap": {
      "0": {
       "dataGridStateBlob": "{\"version\":1,\"tableState\":{\"columnPinning\":{\"left\":[\"#row_number#\"],\"right\":[]},\"columnSizing\":{},\"columnVisibility\":{}},\"settings\":{\"columns\":{}},\"syncTimestamp\":1758314996206}",
       "filterBlob": null,
       "queryPlanFiltersBlob": null,
       "tableResultIndex": 0
      }
     },
     "title": ""
    }
   },
   "outputs": [],
   "source": [
    "display(reajuste_raw.limit(5))"
   ]
  },
  {
   "cell_type": "code",
   "execution_count": 0,
   "metadata": {
    "application/vnd.databricks.v1+cell": {
     "cellMetadata": {
      "byteLimit": 2048000,
      "rowLimit": 10000
     },
     "inputWidgets": {},
     "nuid": "10b6c648-3c64-45c3-a508-5e0125ff8525",
     "showTitle": false,
     "tableResultSettingsMap": {},
     "title": ""
    }
   },
   "outputs": [],
   "source": [
    "cursos = cursos_raw.drop('curso_busca')\n",
    "cursos = cursos.withColumnRenamed('nome', 'nome_curso')\n",
    "cursos = cursos.dropna(how=\"any\")\n",
    "\n",
    "reajuste = reajuste_raw\n",
    "\n",
    "cursos\\\n",
    "    .select('nome_curso')\\\n",
    "    .filter(cursos.nome_curso == 'Medicina')\\\n",
    "    .agg(F.count('nome_curso'))\\\n",
    "    .show()\n",
    "\n",
    "cursos\\\n",
    "    .select('nome_curso', 'turno')\\\n",
    "    .filter(cursos.nome_curso == 'Medicina')\\\n",
    "    .groupBy('turno')\\\n",
    "    .agg(F.count('nome_curso'))\\\n",
    "    .show()\n",
    "\n",
    "cursos\\\n",
    "    .select('nome_curso', 'bolsa_integral_cotas')\\\n",
    "    .filter(cursos.nome_curso == 'Medicina')\\\n",
    "    .agg(F.sum('bolsa_integral_cotas'))\\\n",
    "    .show()"
   ]
  },
  {
   "cell_type": "code",
   "execution_count": 0,
   "metadata": {
    "application/vnd.databricks.v1+cell": {
     "cellMetadata": {
      "byteLimit": 2048000,
      "rowLimit": 10000
     },
     "inputWidgets": {},
     "nuid": "11246607-2107-4262-845d-cb537935d633",
     "showTitle": false,
     "tableResultSettingsMap": {},
     "title": ""
    }
   },
   "outputs": [],
   "source": [
    "reajuste = reajuste.withColumn('constant', F.lit(1))\n",
    "cursos = cursos.withColumn('constant', F.lit(1))\n",
    "\n",
    "w_reajuste = Window.orderBy(\"constant\")\n",
    "w_cursos = Window.orderBy('constant')\n",
    "\n",
    "cursos = cursos.withColumn(\"contador\", F.row_number().over(w_cursos))\n",
    "reajuste = reajuste.withColumn(\"contador\", F.row_number().over(w_reajuste))\n",
    "\n",
    "cursos = cursos.drop('constant')\n",
    "reajuste = reajuste.drop('constant')\n",
    "\n",
    "df = cursos.join(reajuste, on='contador', how='inner')\n",
    "df = df.drop('contador')"
   ]
  },
  {
   "cell_type": "code",
   "execution_count": 0,
   "metadata": {
    "application/vnd.databricks.v1+cell": {
     "cellMetadata": {
      "byteLimit": 2048000,
      "rowLimit": 10000
     },
     "inputWidgets": {},
     "nuid": "421bbb15-3b38-472b-be5a-fc72cf1d4a82",
     "showTitle": false,
     "tableResultSettingsMap": {},
     "title": ""
    }
   },
   "outputs": [],
   "source": [
    "display(df)"
   ]
  },
  {
   "cell_type": "code",
   "execution_count": 0,
   "metadata": {
    "application/vnd.databricks.v1+cell": {
     "cellMetadata": {
      "byteLimit": 2048000,
      "rowLimit": 10000
     },
     "inputWidgets": {},
     "nuid": "8398d7b4-d7ea-4dfe-a4a1-98991df590c1",
     "showTitle": false,
     "tableResultSettingsMap": {
      "0": {
       "dataGridStateBlob": "{\"version\":1,\"tableState\":{\"columnPinning\":{\"left\":[\"#row_number#\"],\"right\":[]},\"columnSizing\":{},\"columnVisibility\":{}},\"settings\":{\"columns\":{}},\"syncTimestamp\":1758314999336}",
       "filterBlob": null,
       "queryPlanFiltersBlob": null,
       "tableResultIndex": 0
      }
     },
     "title": ""
    }
   },
   "outputs": [],
   "source": [
    "display(df)"
   ]
  },
  {
   "cell_type": "code",
   "execution_count": 0,
   "metadata": {
    "application/vnd.databricks.v1+cell": {
     "cellMetadata": {
      "byteLimit": 2048000,
      "rowLimit": 10000
     },
     "inputWidgets": {},
     "nuid": "15146641-59aa-4ea5-838a-ac708765be6f",
     "showTitle": false,
     "tableResultSettingsMap": {},
     "title": ""
    }
   },
   "outputs": [],
   "source": [
    "colunas_bolsa = [c for c in df.columns if \"bolsa\" in c.lower()]\n",
    "\n",
    "display(df\n",
    "    .select(*colunas_bolsa)\n",
    "    .filter(cursos.nome_curso == 'Medicina')\n",
    "    .describe())\n",
    "\n",
    "df_medicina = df.filter(df.nome_curso == 'Medicina')"
   ]
  },
  {
   "cell_type": "code",
   "execution_count": 0,
   "metadata": {
    "application/vnd.databricks.v1+cell": {
     "cellMetadata": {
      "byteLimit": 2048000,
      "rowLimit": 10000
     },
     "inputWidgets": {},
     "nuid": "1a96e295-674e-4ea2-932f-17cac4253c46",
     "showTitle": false,
     "tableResultSettingsMap": {},
     "title": ""
    }
   },
   "outputs": [],
   "source": [
    "display(df_medicina.orderBy('mensalidade', ascending=False))"
   ]
  },
  {
   "cell_type": "code",
   "execution_count": 0,
   "metadata": {
    "application/vnd.databricks.v1+cell": {
     "cellMetadata": {
      "byteLimit": 2048000,
      "rowLimit": 10000
     },
     "inputWidgets": {},
     "nuid": "b7009661-a277-43aa-a73e-9306fd7dc15e",
     "showTitle": false,
     "tableResultSettingsMap": {},
     "title": ""
    }
   },
   "outputs": [],
   "source": [
    "agrupados = df_medicina\\\n",
    "    .select(['mensalidade', 'uf_busca'])\\\n",
    "    .filter((df_medicina.nome_curso == 'Medicina') &\n",
    "            ((df_medicina.turno == 'Integral') | (df_medicina.turno == 'Matutino'))\n",
    "            )\\\n",
    "    .groupBy('uf_busca')\\\n",
    "    .agg(F.mean('mensalidade').alias('mensalidade'))\\\n",
    "    .orderBy(\"mensalidade\", ascending=False)\n",
    "\n",
    "display(agrupados)\n",
    "\n",
    "agrupados_pd = agrupados.toPandas()\n",
    "\n",
    "\n",
    "fig = px.bar(\n",
    "    agrupados_pd,\n",
    "    x=\"uf_busca\",\n",
    "    y=\"mensalidade\",\n",
    "    title=\"Mensalidade média por UF (ordenada)\",\n",
    "    labels={\"uf_busca\": \"UF\", \"mensalidade\": \"Mensalidade Média\"}\n",
    ")\n",
    "fig.show()"
   ]
  },
  {
   "cell_type": "code",
   "execution_count": 0,
   "metadata": {
    "application/vnd.databricks.v1+cell": {
     "cellMetadata": {
      "byteLimit": 2048000,
      "rowLimit": 10000
     },
     "inputWidgets": {},
     "nuid": "2eff6ee1-f342-4cbc-91e0-3047d8f8a345",
     "showTitle": false,
     "tableResultSettingsMap": {},
     "title": ""
    }
   },
   "outputs": [],
   "source": [
    "agrupados = df\\\n",
    "    .select('bolsa_integral_cotas', 'uf_busca')\\\n",
    "    .filter(df.nome_curso == 'Medicina')\\\n",
    "    .groupBy('uf_busca')\\\n",
    "    .agg(F.sum('bolsa_integral_cotas').alias('cotas'))\\\n",
    "    .orderBy('cotas', ascending=False)\\\n",
    "\n",
    "display(agrupados)\n",
    "\n",
    "agrupados_pd = agrupados.toPandas()\n",
    "\n",
    "fig = px.bar(\n",
    "    agrupados_pd,\n",
    "    x=\"uf_busca\",\n",
    "    y=\"cotas\",\n",
    "    title=\"Total de Cotas por UF (ordenada)\",\n",
    "    labels={\"uf_busca\": \"UF\", \"cotas\": \"Total Cotas\"}\n",
    ")\n",
    "fig.show()"
   ]
  },
  {
   "cell_type": "code",
   "execution_count": 0,
   "metadata": {
    "application/vnd.databricks.v1+cell": {
     "cellMetadata": {
      "byteLimit": 2048000,
      "rowLimit": 10000
     },
     "inputWidgets": {},
     "nuid": "a1e78a59-1cca-41bc-b30e-4755932e6609",
     "showTitle": false,
     "tableResultSettingsMap": {},
     "title": ""
    }
   },
   "outputs": [],
   "source": [
    "nomes_cidades = {\n",
    "\"Sao Luis\": \"Capital\",\n",
    "\"Joao Pessoa\":\"Capital\",\n",
    "\"Belem\":\"Capital\",\n",
    "\"Itaperuna\":\"Município\",\n",
    "\"Vitoria\":\"Município\",\n",
    "\"Franca\":\"Município\",\n",
    "\"Sao Paulo\":\"Capital\",\n",
    "\"Guarapuava\":\"Município\",\n",
    "\"Campo Mourao\":\"Município\",\n",
    "\"Montes Claros\":\"Município\",\n",
    "\"Rio Branco\":\"Município\",\n",
    "\"Imperatriz\":\"Município\",\n",
    "\"Vespasiano\":\"Município\",\n",
    "\"Porto Velho\": \"Município\"\n",
    "}\n",
    "\n",
    "dados = list(nomes_cidades.items())\n",
    "\n",
    "class_cidades = spark.createDataFrame(dados, [\"cidade\", \"classificacao_cidades\"])\n",
    "\n",
    "class_cidades = class_cidades.withColumnRenamed('cidade', 'cidade_busca')\\\n",
    "                .dropDuplicates(subset=['cidade_busca'])\n",
    "\n",
    "df_medicina = df_medicina.join(class_cidades, on='cidade_busca', how='inner')"
   ]
  },
  {
   "cell_type": "code",
   "execution_count": 0,
   "metadata": {
    "application/vnd.databricks.v1+cell": {
     "cellMetadata": {
      "byteLimit": 2048000,
      "rowLimit": 10000
     },
     "inputWidgets": {},
     "nuid": "ba48c3f4-9af4-42ee-9dc4-b968ff009c9c",
     "showTitle": false,
     "tableResultSettingsMap": {},
     "title": ""
    }
   },
   "outputs": [],
   "source": [
    "agrupados = df_medicina\\\n",
    "    .select('classificacao_cidades', 'bolsa_integral_cotas')\\\n",
    "    .groupBy('classificacao_cidades')\\\n",
    "    .agg(F.sum('bolsa_integral_cotas').alias('cotas'))\\\n",
    "    .orderBy('cotas', ascending=False)\n",
    "\n",
    "display(agrupados)\n",
    "\n",
    "agrupados_pd = agrupados.toPandas()\n",
    "\n",
    "fig = px.bar(\n",
    "    agrupados_pd,\n",
    "    x=\"classificacao_cidades\",\n",
    "    y=\"cotas\",\n",
    "    title=\"Total de Cotas por Tipo de Cidade\",\n",
    "    labels={\"cotas\": \"Cotas\", \"classificacao_cidades\": \"Classificação Cidades\"}\n",
    ")\n",
    "fig.show()\n"
   ]
  },
  {
   "cell_type": "code",
   "execution_count": 0,
   "metadata": {
    "application/vnd.databricks.v1+cell": {
     "cellMetadata": {
      "byteLimit": 2048000,
      "rowLimit": 10000
     },
     "inputWidgets": {},
     "nuid": "22b8408a-4f8f-4920-8728-b4e5f21db2e0",
     "showTitle": false,
     "tableResultSettingsMap": {},
     "title": ""
    }
   },
   "outputs": [],
   "source": [
    "aux = df_medicina.select('mensalidade','bolsa_integral_cotas','bolsa_integral_ampla','bolsa_parcial_cotas','bolsa_parcial_ampla','nota_integral_ampla', 'nota_integral_cotas', 'nota_parcial_ampla','nota_parcial_cotas')\n",
    "\n",
    "aux.toPandas().corr().style.background_gradient(cmap=\"Reds\",vmin=-1,vmax=1)"
   ]
  },
  {
   "cell_type": "code",
   "execution_count": 0,
   "metadata": {
    "application/vnd.databricks.v1+cell": {
     "cellMetadata": {
      "byteLimit": 2048000,
      "rowLimit": 10000
     },
     "inputWidgets": {},
     "nuid": "ffce445b-2296-4c3e-ab24-fa889f38f1cf",
     "showTitle": false,
     "tableResultSettingsMap": {},
     "title": ""
    }
   },
   "outputs": [],
   "source": [
    "df_medicina.plot.scatter(x='mensalidade',y='bolsa_parcial_cotas', trendline='ols', trendline_color_override = 'red')\n"
   ]
  },
  {
   "cell_type": "code",
   "execution_count": 0,
   "metadata": {
    "application/vnd.databricks.v1+cell": {
     "cellMetadata": {
      "byteLimit": 2048000,
      "rowLimit": 10000
     },
     "inputWidgets": {},
     "nuid": "56dc8937-9a9c-4e02-b28b-b5fcda8b0cbc",
     "showTitle": false,
     "tableResultSettingsMap": {},
     "title": ""
    }
   },
   "outputs": [],
   "source": [
    "df_medicina.plot.scatter(x='nota_parcial_ampla',y='nota_parcial_cotas', trendline='ols', trendline_color_override = 'red')"
   ]
  },
  {
   "cell_type": "code",
   "execution_count": 0,
   "metadata": {
    "application/vnd.databricks.v1+cell": {
     "cellMetadata": {
      "byteLimit": 2048000,
      "rowLimit": 10000
     },
     "inputWidgets": {},
     "nuid": "b124fe54-08be-48c2-a593-0597989c0590",
     "showTitle": false,
     "tableResultSettingsMap": {},
     "title": ""
    }
   },
   "outputs": [],
   "source": [
    "df\\\n",
    "    .select('mensalidade')\\\n",
    "    .filter(df.nome_curso == 'Medicina')\\\n",
    "    .plot.box()"
   ]
  },
  {
   "cell_type": "code",
   "execution_count": 0,
   "metadata": {
    "application/vnd.databricks.v1+cell": {
     "cellMetadata": {
      "byteLimit": 2048000,
      "rowLimit": 10000
     },
     "inputWidgets": {},
     "nuid": "51178630-8107-4246-9530-39de2f799c02",
     "showTitle": false,
     "tableResultSettingsMap": {},
     "title": ""
    }
   },
   "outputs": [],
   "source": [
    "df\\\n",
    "    .select('mensalidade')\\\n",
    "    .filter(df.nome_curso == 'Enfermagem')\\\n",
    "    .plot.box()"
   ]
  },
  {
   "cell_type": "code",
   "execution_count": 0,
   "metadata": {
    "application/vnd.databricks.v1+cell": {
     "cellMetadata": {
      "byteLimit": 2048000,
      "rowLimit": 10000
     },
     "inputWidgets": {},
     "nuid": "c5e9ecf8-eb4a-4c4f-bc28-b3636b8dbbf0",
     "showTitle": false,
     "tableResultSettingsMap": {
      "0": {
       "dataGridStateBlob": "{\"version\":1,\"tableState\":{\"columnPinning\":{\"left\":[\"#row_number#\"],\"right\":[]},\"columnSizing\":{\"universidade_nome\":480},\"columnVisibility\":{}},\"settings\":{\"columns\":{}},\"syncTimestamp\":1758347641658}",
       "filterBlob": null,
       "queryPlanFiltersBlob": null,
       "tableResultIndex": 0
      }
     },
     "title": ""
    }
   },
   "outputs": [],
   "source": [
    "nomes_universidades = (\n",
    "    df_medicina\n",
    "    .select('universidade_nome')\n",
    "    .dropDuplicates(['universidade_nome'])\n",
    ")\n",
    "\n",
    "df_medicina = df_medicina\\\n",
    "    .withColumn('universidade_nome',\n",
    "        F.when(df_medicina.universidade_nome == 'Centro Universitário Integrado de Campo Mourão', \n",
    "        'Centro Universitário Integrado de Campo Mourão - CUICM')\n",
    "        .otherwise(df_medicina.universidade_nome)\n",
    "    )\n",
    "\n",
    "display(nomes_universidades)"
   ]
  },
  {
   "cell_type": "code",
   "execution_count": 0,
   "metadata": {
    "application/vnd.databricks.v1+cell": {
     "cellMetadata": {
      "byteLimit": 2048000,
      "rowLimit": 10000
     },
     "inputWidgets": {},
     "nuid": "c866e7f7-0d6b-4abf-ab87-5ef55043574a",
     "showTitle": false,
     "tableResultSettingsMap": {
      "0": {
       "dataGridStateBlob": "{\"version\":1,\"tableState\":{\"columnPinning\":{\"left\":[\"#row_number#\"],\"right\":[]},\"columnSizing\":{},\"columnVisibility\":{}},\"settings\":{\"columns\":{}},\"syncTimestamp\":1758346952855}",
       "filterBlob": null,
       "queryPlanFiltersBlob": null,
       "tableResultIndex": 0
      }
     },
     "title": ""
    }
   },
   "outputs": [],
   "source": [
    "display(\n",
    "    df_medicina\n",
    "    .select('universidade_nome')\n",
    "    .dropDuplicates(['universidade_nome'])\n",
    "    .filter(F.col('universidade_nome').contains('Universidade'))\n",
    ")"
   ]
  },
  {
   "cell_type": "code",
   "execution_count": 0,
   "metadata": {
    "application/vnd.databricks.v1+cell": {
     "cellMetadata": {
      "byteLimit": 2048000,
      "rowLimit": 10000
     },
     "inputWidgets": {},
     "nuid": "fe80e303-9e96-4275-9f24-ba43cf22f73c",
     "showTitle": false,
     "tableResultSettingsMap": {},
     "title": ""
    }
   },
   "outputs": [],
   "source": [
    "separado = df_medicina\\\n",
    "    .select('universidade_nome')\\\n",
    "    .withColumn('universidade_list', F.split(df_medicina.universidade_nome, \" - \"))\\\n",
    "    .withColumn(\"sigla\", F.col(\"universidade_list\")[1])\\\n",
    "    .drop('universidade_list')\\\n",
    "    .dropDuplicates(['universidade_nome'])\n",
    "\n",
    "display(separado)"
   ]
  },
  {
   "cell_type": "code",
   "execution_count": 0,
   "metadata": {
    "application/vnd.databricks.v1+cell": {
     "cellMetadata": {
      "byteLimit": 2048000,
      "rowLimit": 10000
     },
     "inputWidgets": {},
     "nuid": "d736daaa-4334-463a-9eda-365b90da26aa",
     "showTitle": false,
     "tableResultSettingsMap": {},
     "title": ""
    }
   },
   "outputs": [],
   "source": [
    "df_medicina = df_medicina\\\n",
    "    .join(\n",
    "        separado,\n",
    "        on='universidade_nome',\n",
    "        how='inner'\n",
    "    )\n",
    "\n",
    "display(df_medicina)"
   ]
  },
  {
   "cell_type": "code",
   "execution_count": 0,
   "metadata": {
    "application/vnd.databricks.v1+cell": {
     "cellMetadata": {
      "byteLimit": 2048000,
      "rowLimit": 10000
     },
     "inputWidgets": {},
     "nuid": "66510c6c-d18a-4a3a-8669-3d3a2835494b",
     "showTitle": false,
     "tableResultSettingsMap": {},
     "title": ""
    }
   },
   "outputs": [],
   "source": [
    "df_medicina\\\n",
    "    .select('sigla', 'nota_integral_ampla')\\\n",
    "    .groupBy('sigla')\\\n",
    "    .agg(F.mean('nota_integral_ampla').alias('media'))\\\n",
    "    .orderBy('media', ascending=False)\\\n",
    "    .plot.bar(x='sigla', y='media')"
   ]
  },
  {
   "cell_type": "code",
   "execution_count": 0,
   "metadata": {
    "application/vnd.databricks.v1+cell": {
     "cellMetadata": {},
     "inputWidgets": {},
     "nuid": "87b0c997-2c0e-4c09-b1b7-b41f5a492a77",
     "showTitle": false,
     "tableResultSettingsMap": {},
     "title": ""
    }
   },
   "outputs": [],
   "source": []
  }
 ],
 "metadata": {
  "application/vnd.databricks.v1+notebook": {
   "computePreferences": {
    "hardware": {
     "accelerator": null,
     "gpuPoolId": null,
     "memory": null
    }
   },
   "dashboards": [],
   "environmentMetadata": {
    "base_environment": "",
    "environment_version": "3"
   },
   "inputWidgetPreferences": null,
   "language": "python",
   "notebookMetadata": {
    "pythonIndentUnit": 4
   },
   "notebookName": "prouni",
   "widgets": {}
  },
  "language_info": {
   "name": "python"
  }
 },
 "nbformat": 4,
 "nbformat_minor": 0
}
