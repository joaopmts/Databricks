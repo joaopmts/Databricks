{
 "cells": [
  {
   "cell_type": "code",
   "execution_count": 0,
   "metadata": {
    "application/vnd.databricks.v1+cell": {
     "cellMetadata": {
      "byteLimit": 2048000,
      "rowLimit": 10000
     },
     "inputWidgets": {},
     "nuid": "0783f787-368d-43d4-8f67-02edbe7446a3",
     "showTitle": false,
     "tableResultSettingsMap": {},
     "title": ""
    }
   },
   "outputs": [],
   "source": [
    "display(dbutils.fs.ls('/Volumes/workspace/alura/c3/'))"
   ]
  },
  {
   "cell_type": "code",
   "execution_count": 0,
   "metadata": {
    "application/vnd.databricks.v1+cell": {
     "cellMetadata": {
      "byteLimit": 2048000,
      "rowLimit": 10000
     },
     "inputWidgets": {},
     "nuid": "64bf5110-fc6f-4593-be3a-f9722e70353c",
     "showTitle": false,
     "tableResultSettingsMap": {},
     "title": ""
    }
   },
   "outputs": [],
   "source": [
    "from pyspark.sql import functions as F"
   ]
  },
  {
   "cell_type": "code",
   "execution_count": 0,
   "metadata": {
    "application/vnd.databricks.v1+cell": {
     "cellMetadata": {
      "byteLimit": 2048000,
      "rowLimit": 10000
     },
     "inputWidgets": {},
     "nuid": "ad894da2-27d0-42f2-9e2e-28d1bd395f37",
     "showTitle": false,
     "tableResultSettingsMap": {},
     "title": ""
    }
   },
   "outputs": [],
   "source": [
    "fies_raw = spark.read\\\n",
    "    .option('header', 'True')\\\n",
    "    .option('inferSchema','true')\\\n",
    "    .option('delimiter', ';')\\\n",
    "    .format('csv')\\\n",
    "    .load('/Volumes/workspace/alura/c3/relatorio_inscricao_dados_abertos_fies_22021.csv')\n",
    "\n",
    "fies_raw.na.drop(how='any')\n",
    "\n",
    "display(fies_raw.limit(5))"
   ]
  },
  {
   "cell_type": "code",
   "execution_count": 0,
   "metadata": {
    "application/vnd.databricks.v1+cell": {
     "cellMetadata": {
      "byteLimit": 2048000,
      "rowLimit": 10000
     },
     "inputWidgets": {},
     "nuid": "de9c7391-9f48-4bd5-8308-e310c99b4c88",
     "showTitle": false,
     "tableResultSettingsMap": {},
     "title": ""
    }
   },
   "outputs": [],
   "source": [
    "count_sex = fies_raw\\\n",
    "    .select('ID do estudante', 'Sexo')\\\n",
    "    .groupBy('Sexo')\\\n",
    "    .agg(F.count('ID do estudante').alias('id'))\\\n",
    "    .orderBy('Sexo', acending=False)\n",
    "\n",
    "display(count_sex)\n",
    "\n",
    "count_sex.plot(kind='bar', x='Sexo', y='id')"
   ]
  },
  {
   "cell_type": "code",
   "execution_count": 0,
   "metadata": {
    "application/vnd.databricks.v1+cell": {
     "cellMetadata": {
      "byteLimit": 2048000,
      "rowLimit": 10000
     },
     "inputWidgets": {},
     "nuid": "b9d47901-809c-4d46-935b-68f2c01b88ad",
     "showTitle": false,
     "tableResultSettingsMap": {
      "0": {
       "dataGridStateBlob": "{\"version\":1,\"tableState\":{\"columnPinning\":{\"left\":[\"#row_number#\"],\"right\":[]},\"columnSizing\":{},\"columnVisibility\":{}},\"settings\":{\"columns\":{}},\"syncTimestamp\":1758349711155}",
       "filterBlob": null,
       "queryPlanFiltersBlob": null,
       "tableResultIndex": 0
      }
     },
     "title": ""
    }
   },
   "outputs": [],
   "source": [
    "new_columns = [\n",
    "    \"Ano do processo seletivo\",\n",
    "    \"Semestre do processo seletivo\",\n",
    "    \"Cod. do Grupo de preferência\",\n",
    "    \"Classificação\",\n",
    "    \"ID do estudante\",\n",
    "    \"Sexo\",\n",
    "    \"Data de Nascimento\",\n",
    "    \"UF de residência\",\n",
    "    \"Municipio de residência\",\n",
    "    \"Etnia/Cor\",\n",
    "    \"Pessoa com deficiência?\",\n",
    "    \"Concluiu ensino médio escola pública\",\n",
    "    \"Ano conclusão ensino médio\",\n",
    "    \"Concluiu curso superior\",\n",
    "    \"Beneficiado pelo Creduc ou Fies\",\n",
    "    \"Professor rede pública ensino\",\n",
    "    \"N de membros Grupo Familiar\",\n",
    "    \"Renda familiar mensal bruta\",\n",
    "    \"Renda mensal bruta per capita\",\n",
    "    \"Região grupo de preferência\",\n",
    "    \"UF\",\n",
    "    \"Cod.Microrregião\",\n",
    "    \"Microrregião\",\n",
    "    \"Cod.Mesorregião\",\n",
    "    \"Mesorregião\",\n",
    "    \"Conceito de curso do GP\",\n",
    "    \"Área do conhecimento\",\n",
    "    \"Subárea do conhecimento\",\n",
    "    \"Nota Corte Grupo Preferência\",\n",
    "    \"Opções de cursos da inscrição\",\n",
    "    \"Nome mantenedora\",\n",
    "    \"Natureza Jurídica Mantenedora\",\n",
    "    \"CNPJ da mantenedora\",\n",
    "    \"Código eMEC da Mantenedora\",\n",
    "    \"Nome da IES\",\n",
    "    \"Código e-MEC da IES\",\n",
    "    \"Organização Acadêmica da IES\",\n",
    "    \"Município da IES\",\n",
    "    \"UF da IES\",\n",
    "    \"Nome do Local de oferta\",\n",
    "    \"Código do Local de Oferta\",\n",
    "    \"Município do Local de Oferta\",\n",
    "    \"UF do Local de Oferta\",\n",
    "    \"Código do curso\",\n",
    "    \"Nome do curso\",\n",
    "    \"Turno\",\n",
    "    \"Grau\",\n",
    "    \"Conceito\",\n",
    "    \"Média nota Enem\",\n",
    "    \"Ano do Enem\",\n",
    "    \"Redação\",\n",
    "    \"Matemática e suas Tecnologias\",\n",
    "    \"Linguagens Códigos e suas Tec\",\n",
    "    \"Ciências Natureza e suas Tec\",\n",
    "    \"Ciências Humanas e suas Tec\",\n",
    "    \"Situação Inscrição Fies\",\n",
    "    \"Percentual de financiamento\",\n",
    "    \"Semestre do financiamento\",\n",
    "    \"Qtde semestre financiado\"\n",
    "]\n",
    "\n",
    "old_columns = fies_raw.columns\n",
    "\n",
    "for old, new in zip(old_columns, new_columns):\n",
    "    fies_raw = fies_raw.withColumnRenamed(old, new)\n",
    "\n",
    "display(fies_raw)"
   ]
  }
 ],
 "metadata": {
  "application/vnd.databricks.v1+notebook": {
   "computePreferences": null,
   "dashboards": [],
   "environmentMetadata": {
    "base_environment": "",
    "environment_version": "3"
   },
   "inputWidgetPreferences": null,
   "language": "python",
   "notebookMetadata": {
    "pythonIndentUnit": 4
   },
   "notebookName": "desafio_fies",
   "widgets": {}
  },
  "language_info": {
   "name": "python"
  }
 },
 "nbformat": 4,
 "nbformat_minor": 0
}
