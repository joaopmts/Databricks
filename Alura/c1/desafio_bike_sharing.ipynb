{
 "cells": [
  {
   "cell_type": "code",
   "execution_count": 0,
   "metadata": {
    "application/vnd.databricks.v1+cell": {
     "cellMetadata": {
      "byteLimit": 2048000,
      "rowLimit": 10000
     },
     "inputWidgets": {},
     "nuid": "f5185302-12ac-4d58-b6fd-6063554bba6f",
     "showTitle": false,
     "tableResultSettingsMap": {},
     "title": ""
    }
   },
   "outputs": [],
   "source": [
    "display(dbutils.fs.ls('/databricks-datasets/'))"
   ]
  },
  {
   "cell_type": "code",
   "execution_count": 0,
   "metadata": {
    "application/vnd.databricks.v1+cell": {
     "cellMetadata": {
      "byteLimit": 2048000,
      "rowLimit": 10000
     },
     "inputWidgets": {},
     "nuid": "88374fe3-a975-43d4-8ae7-8fd89e14a6d8",
     "showTitle": false,
     "tableResultSettingsMap": {},
     "title": ""
    }
   },
   "outputs": [],
   "source": [
    "display(dbutils.fs.ls('databricks-datasets/bikeSharing/'))"
   ]
  },
  {
   "cell_type": "code",
   "execution_count": 0,
   "metadata": {
    "application/vnd.databricks.v1+cell": {
     "cellMetadata": {
      "byteLimit": 2048000,
      "rowLimit": 10000
     },
     "inputWidgets": {},
     "nuid": "e38581c8-4e57-47d7-b9ab-e3e5023add8f",
     "showTitle": false,
     "tableResultSettingsMap": {},
     "title": ""
    }
   },
   "outputs": [],
   "source": [
    "dbutils.fs.cp('databricks-datasets/bikeSharing/', '/Volumes/workspace/alura/c1/bikeSharing', recurse=True)"
   ]
  },
  {
   "cell_type": "code",
   "execution_count": 0,
   "metadata": {
    "application/vnd.databricks.v1+cell": {
     "cellMetadata": {
      "byteLimit": 2048000,
      "rowLimit": 10000
     },
     "inputWidgets": {},
     "nuid": "0096ce9a-8178-4663-b32e-914642fe1434",
     "showTitle": false,
     "tableResultSettingsMap": {},
     "title": ""
    }
   },
   "outputs": [],
   "source": [
    "bs_df_hour = spark.read.csv('/Volumes/workspace/alura/c1/bikeSharing/data-001/hour.csv', header=True, sep=',', inferSchema=True)\n",
    "\n",
    "bs_df_day = spark.read.csv('/Volumes/workspace/alura/c1/bikeSharing/data-001/day.csv', header=True, sep=',', inferSchema=True)"
   ]
  },
  {
   "cell_type": "code",
   "execution_count": 0,
   "metadata": {
    "application/vnd.databricks.v1+cell": {
     "cellMetadata": {
      "byteLimit": 2048000,
      "rowLimit": 10000
     },
     "inputWidgets": {},
     "nuid": "1a3ef70f-81e4-41d6-9eea-909d5cd6eb22",
     "showTitle": false,
     "tableResultSettingsMap": {},
     "title": ""
    }
   },
   "outputs": [],
   "source": [
    "table_name_hour = \"workspace.alura.bike_sharing_hour\"\n",
    "\n",
    "table_name_day = \"workspace.alura.bike_sharing_day\"\n",
    "\n",
    "bs_df_hour.write.format('delta').mode('overwrite').saveAsTable(table_name_hour)\n",
    "bs_df_day.write.format('delta').mode('overwrite').saveAsTable(table_name_day)"
   ]
  },
  {
   "cell_type": "code",
   "execution_count": 0,
   "metadata": {
    "application/vnd.databricks.v1+cell": {
     "cellMetadata": {
      "byteLimit": 2048000,
      "implicitDf": true,
      "rowLimit": 10000
     },
     "inputWidgets": {},
     "nuid": "74783fb6-c0ad-4163-bd03-e39c797b883f",
     "showTitle": false,
     "tableResultSettingsMap": {},
     "title": ""
    }
   },
   "outputs": [],
   "source": [
    "%sql\n",
    "USE workspace.alura"
   ]
  },
  {
   "cell_type": "code",
   "execution_count": 0,
   "metadata": {
    "application/vnd.databricks.v1+cell": {
     "cellMetadata": {
      "byteLimit": 2048000,
      "rowLimit": 10000
     },
     "inputWidgets": {},
     "nuid": "a3d2137b-a321-4985-a148-df8638f99fcc",
     "showTitle": false,
     "tableResultSettingsMap": {},
     "title": ""
    }
   },
   "outputs": [],
   "source": [
    "display(spark.sql('''\n",
    "          select * from bike_sharing_day limit 10\n",
    "          '''))"
   ]
  },
  {
   "cell_type": "code",
   "execution_count": 0,
   "metadata": {
    "application/vnd.databricks.v1+cell": {
     "cellMetadata": {
      "byteLimit": 2048000,
      "rowLimit": 10000
     },
     "inputWidgets": {},
     "nuid": "0338947b-7242-4e36-b6fc-216bfc1b4f3a",
     "showTitle": false,
     "tableResultSettingsMap": {},
     "title": ""
    }
   },
   "outputs": [],
   "source": [
    "from pyspark.sql import functions as F\n",
    "\n",
    "bs_df_day = bs_df_day.withColumn('total_users', F.col('casual') + F.col('registered'))\n",
    "\n",
    "bs_df_day\\\n",
    "    .select(['season', 'total_users'])\\\n",
    "    .groupBy('season')\\\n",
    "    .agg(F.sum('total_users').alias('qtd'))\\\n",
    "    .orderBy('season', ascending=False)\\\n",
    "    .show()"
   ]
  },
  {
   "cell_type": "code",
   "execution_count": 0,
   "metadata": {
    "application/vnd.databricks.v1+cell": {
     "cellMetadata": {
      "byteLimit": 2048000,
      "rowLimit": 10000
     },
     "inputWidgets": {},
     "nuid": "c71850ec-2479-46c9-ac2c-bc057f1b310b",
     "showTitle": false,
     "tableResultSettingsMap": {},
     "title": ""
    }
   },
   "outputs": [],
   "source": [
    "bs_df_day\\\n",
    "    .select(['season', 'total_users', 'yr'])\\\n",
    "    .groupBy(['season', 'yr'])\\\n",
    "    .agg(F.sum('total_users').alias('qtd'))\\\n",
    "    .orderBy(['season', 'yr'], ascending=False)\\\n",
    "    .show()"
   ]
  },
  {
   "cell_type": "code",
   "execution_count": 0,
   "metadata": {
    "application/vnd.databricks.v1+cell": {
     "cellMetadata": {
      "byteLimit": 2048000,
      "rowLimit": 10000
     },
     "inputWidgets": {},
     "nuid": "8379090f-4949-4ace-aa43-32aead4a09be",
     "showTitle": false,
     "tableResultSettingsMap": {},
     "title": ""
    }
   },
   "outputs": [],
   "source": [
    "display(bs_df_hour)"
   ]
  },
  {
   "cell_type": "code",
   "execution_count": 0,
   "metadata": {
    "application/vnd.databricks.v1+cell": {
     "cellMetadata": {
      "byteLimit": 2048000,
      "rowLimit": 10000
     },
     "inputWidgets": {},
     "nuid": "c1ad9ed0-1762-4154-9e24-33957a86ee27",
     "showTitle": false,
     "tableResultSettingsMap": {},
     "title": ""
    }
   },
   "outputs": [],
   "source": [
    "bs_df_hour = bs_df_hour.withColumn('total_users', F.col('casual') + F.col('registered'))\n",
    "\n",
    "display(bs_df_hour\\\n",
    "    .select(['cnt', 'hr'])\\\n",
    "    .groupBy('hr')\\\n",
    "    .agg(F.sum('cnt').alias('qtd'))\\\n",
    "    .orderBy('hr', ascending=False))\n"
   ]
  },
  {
   "cell_type": "code",
   "execution_count": 0,
   "metadata": {
    "application/vnd.databricks.v1+cell": {
     "cellMetadata": {
      "byteLimit": 2048000,
      "rowLimit": 10000
     },
     "inputWidgets": {},
     "nuid": "b7041779-7a7c-428f-b0da-70e990e44a41",
     "showTitle": false,
     "tableResultSettingsMap": {},
     "title": ""
    }
   },
   "outputs": [],
   "source": [
    "bs_df_2011_day = bs_df_day.filter(F.col('yr') == 0)\n",
    "bs_df_2011_day.createOrReplaceTempView('bs_day_2011')"
   ]
  },
  {
   "cell_type": "code",
   "execution_count": 0,
   "metadata": {
    "application/vnd.databricks.v1+cell": {
     "cellMetadata": {
      "byteLimit": 2048000,
      "rowLimit": 10000
     },
     "inputWidgets": {},
     "nuid": "a3955265-1d05-40cd-a15c-48323ee0f103",
     "showTitle": false,
     "tableResultSettingsMap": {},
     "title": ""
    }
   },
   "outputs": [],
   "source": [
    "display(spark.sql('''\n",
    "        SELECT weathersit, workingday, SUM(cnt) as total_rent\n",
    "        FROM bs_day_2011\n",
    "        GROUP BY weathersit, workingday\n",
    "        ORDER BY weathersit, workingday\n",
    "          '''))"
   ]
  }
 ],
 "metadata": {
  "application/vnd.databricks.v1+notebook": {
   "computePreferences": null,
   "dashboards": [],
   "environmentMetadata": {
    "base_environment": "",
    "environment_version": "3"
   },
   "inputWidgetPreferences": null,
   "language": "python",
   "notebookMetadata": {
    "mostRecentlyExecutedCommandWithImplicitDF": {
     "commandId": 6746131329809182,
     "dataframes": [
      "_sqldf"
     ]
    },
    "pythonIndentUnit": 4
   },
   "notebookName": "desafio_bike_sharing",
   "widgets": {}
  },
  "language_info": {
   "name": "python"
  }
 },
 "nbformat": 4,
 "nbformat_minor": 0
}
