{
 "cells": [
  {
   "cell_type": "code",
   "execution_count": 0,
   "metadata": {
    "application/vnd.databricks.v1+cell": {
     "cellMetadata": {
      "byteLimit": 2048000,
      "rowLimit": 10000
     },
     "inputWidgets": {},
     "nuid": "d224fbff-74e3-45a8-bba5-1b04a4a687b7",
     "showTitle": false,
     "tableResultSettingsMap": {},
     "title": ""
    }
   },
   "outputs": [],
   "source": [
    "df = spark.read.csv('/Volumes/workspace/alura/c2/csv/csv_gzip', header=True, inferSchema=True)\n",
    "\n",
    "df = df.na.fill(value=0, subset=[\"valor\"])\n",
    "display(df)"
   ]
  },
  {
   "cell_type": "code",
   "execution_count": 0,
   "metadata": {
    "application/vnd.databricks.v1+cell": {
     "cellMetadata": {
      "byteLimit": 2048000,
      "rowLimit": 10000
     },
     "inputWidgets": {},
     "nuid": "525b189a-8d59-4b99-ada6-0bd6191798d9",
     "showTitle": false,
     "tableResultSettingsMap": {},
     "title": ""
    }
   },
   "outputs": [],
   "source": [
    "from pyspark.sql import functions as F\n",
    "\n",
    "df_txt = df.select(F.concat_ws(\"*****\", *df.columns).alias('dados'))\n",
    "display(df_txt)"
   ]
  },
  {
   "cell_type": "code",
   "execution_count": 0,
   "metadata": {
    "application/vnd.databricks.v1+cell": {
     "cellMetadata": {
      "byteLimit": 2048000,
      "rowLimit": 10000
     },
     "inputWidgets": {},
     "nuid": "74d0a384-5f88-4011-addd-7cbb28fa7d37",
     "showTitle": false,
     "tableResultSettingsMap": {},
     "title": ""
    }
   },
   "outputs": [],
   "source": [
    "df_txt.write \\\n",
    "        .format(\"text\") \\\n",
    "        .mode(\"overwrite\") \\\n",
    "        .save(\"/Volumes/workspace/alura/c2/txt/\")\n"
   ]
  },
  {
   "cell_type": "code",
   "execution_count": 0,
   "metadata": {
    "application/vnd.databricks.v1+cell": {
     "cellMetadata": {
      "byteLimit": 2048000,
      "rowLimit": 10000
     },
     "inputWidgets": {},
     "nuid": "64f9cd3c-127a-4e20-91cf-55decd7e06a2",
     "showTitle": false,
     "tableResultSettingsMap": {},
     "title": ""
    }
   },
   "outputs": [],
   "source": [
    "display(dbutils.fs.ls('/Volumes/workspace/alura/c2/txt/'))"
   ]
  },
  {
   "cell_type": "code",
   "execution_count": 0,
   "metadata": {
    "application/vnd.databricks.v1+cell": {
     "cellMetadata": {
      "byteLimit": 2048000,
      "rowLimit": 10000
     },
     "inputWidgets": {},
     "nuid": "b6998295-07cc-42e1-8dc4-43551a9bb30f",
     "showTitle": false,
     "tableResultSettingsMap": {
      "0": {
       "dataGridStateBlob": "{\"version\":1,\"tableState\":{\"columnPinning\":{\"left\":[\"#row_number#\"],\"right\":[]},\"columnSizing\":{},\"columnVisibility\":{}},\"settings\":{\"columns\":{}},\"syncTimestamp\":1758296871302}",
       "filterBlob": null,
       "queryPlanFiltersBlob": null,
       "tableResultIndex": 0
      }
     },
     "title": ""
    }
   },
   "outputs": [],
   "source": [
    "df_text = spark.read \\\n",
    "        .option(\"header\", \"false\") \\\n",
    "        .option(\"delimiter\", \"*****\") \\\n",
    "        .option(\"inferSchema\", \"true\") \\\n",
    "        .format(\"csv\") \\\n",
    "        .load(\"/Volumes/workspace/alura/c2/txt/\")\n",
    "\n",
    "df_text = df_text.withColumnRenamed (\"_c0\", \"ano\") \\\n",
    "                .withColumnRenamed(\"_c1\",\"cod_ano\") \\\n",
    "                .withColumnRenamed(\"_c2\",\"cod_doenca\") \\\n",
    "                .withColumnRenamed(\"_c3\",\"cod_medida\") \\\n",
    "                .withColumnRenamed(\"_c4\",\"cod_nivel_territorial\") \\\n",
    "                .withColumnRenamed(\"_c5\",\"cod_regiao\")\\\n",
    "                .withColumnRenamed(\"_c6\", \"cod_variavel\") \\\n",
    "                .withColumnRenamed(\"_c7\", \"doenca\") \\\n",
    "                .withColumnRenamed(\"_c8\", \"medida\") \\\n",
    "                .withColumnRenamed(\"_c9\", \"nivel_territorial\") \\\n",
    "                .withColumnRenamed(\"_c10\", \"regiao\") \\\n",
    "                .withColumnRenamed(\"_c11\",\"valor\") \\\n",
    "                .withColumnRenamed(\"_c12\",\"variavel\")\n",
    "\n",
    "display (df_text)\n",
    "\n"
   ]
  },
  {
   "cell_type": "code",
   "execution_count": 0,
   "metadata": {
    "application/vnd.databricks.v1+cell": {
     "cellMetadata": {
      "byteLimit": 2048000,
      "rowLimit": 10000
     },
     "inputWidgets": {},
     "nuid": "5f0a8ee4-248d-4406-9cb3-444e2b4a59e6",
     "showTitle": false,
     "tableResultSettingsMap": {},
     "title": ""
    }
   },
   "outputs": [],
   "source": [
    "display(df_txt)"
   ]
  },
  {
   "cell_type": "code",
   "execution_count": 0,
   "metadata": {
    "application/vnd.databricks.v1+cell": {
     "cellMetadata": {
      "byteLimit": 2048000,
      "rowLimit": 10000
     },
     "inputWidgets": {},
     "nuid": "ae803893-8afe-4b4b-9c4f-c521e4a1beaa",
     "showTitle": false,
     "tableResultSettingsMap": {},
     "title": ""
    }
   },
   "outputs": [],
   "source": [
    "df_txt.write\\\n",
    "        .mode(\"overwrite\")\\\n",
    "        .option(\"compression\", \"gzip\") \\\n",
    "        .format(\"text\") \\\n",
    "        .save(\"/Volumes/workspace/alura/c2/txt/txt_gzip/\")"
   ]
  },
  {
   "cell_type": "code",
   "execution_count": 0,
   "metadata": {
    "application/vnd.databricks.v1+cell": {
     "cellMetadata": {
      "byteLimit": 2048000,
      "rowLimit": 10000
     },
     "inputWidgets": {},
     "nuid": "06d06665-6eca-4396-a77b-c5b5c05f0d9d",
     "showTitle": false,
     "tableResultSettingsMap": {},
     "title": ""
    }
   },
   "outputs": [],
   "source": [
    "display(dbutils.fs.ls('/Volumes/workspace/alura/c2/txt/txt_gzip/'))"
   ]
  },
  {
   "cell_type": "code",
   "execution_count": 0,
   "metadata": {
    "application/vnd.databricks.v1+cell": {
     "cellMetadata": {
      "byteLimit": 2048000,
      "rowLimit": 10000
     },
     "inputWidgets": {},
     "nuid": "66e0ae46-44e5-4dc4-be6f-94e15512b5e7",
     "showTitle": false,
     "tableResultSettingsMap": {},
     "title": ""
    }
   },
   "outputs": [],
   "source": [
    "df_text = spark.read \\\n",
    "        .option(\"header\", \"false\") \\\n",
    "        .option(\"delimiter\", \"*****\") \\\n",
    "        .option(\"inferSchema\", \"true\") \\\n",
    "        .format(\"csv\") \\\n",
    "        .load(\"/Volumes/workspace/alura/c2/txt/txt_gzip/\")\n",
    "\n",
    "df_text = df_text.withColumnRenamed (\"_c0\", \"ano\") \\\n",
    "                .withColumnRenamed(\"_c1\",\"cod_ano\") \\\n",
    "                .withColumnRenamed(\"_c2\",\"cod_doenca\") \\\n",
    "                .withColumnRenamed(\"_c3\",\"cod_medida\") \\\n",
    "                .withColumnRenamed(\"_c4\",\"cod_nivel_territorial\") \\\n",
    "                .withColumnRenamed(\"_c5\",\"cod_regiao\")\\\n",
    "                .withColumnRenamed(\"_c6\", \"cod_variavel\") \\\n",
    "                .withColumnRenamed(\"_c7\", \"doenca\") \\\n",
    "                .withColumnRenamed(\"_c8\", \"medida\") \\\n",
    "                .withColumnRenamed(\"_c9\", \"nivel_territorial\") \\\n",
    "                .withColumnRenamed(\"_c10\", \"regiao\") \\\n",
    "                .withColumnRenamed(\"_c11\",\"valor\") \\\n",
    "                .withColumnRenamed(\"_c12\",\"variavel\")\n",
    "\n",
    "display (df_text)\n",
    "\n"
   ]
  },
  {
   "cell_type": "code",
   "execution_count": 0,
   "metadata": {
    "application/vnd.databricks.v1+cell": {
     "cellMetadata": {
      "byteLimit": 2048000,
      "rowLimit": 10000
     },
     "inputWidgets": {},
     "nuid": "c9ca5821-936b-4dbd-b066-0689a7192df2",
     "showTitle": false,
     "tableResultSettingsMap": {},
     "title": ""
    }
   },
   "outputs": [],
   "source": [
    "df_text.write \\\n",
    "    .mode(\"overwrite\") \\\n",
    "    .format('avro') \\\n",
    "    .save(\"/Volumes/workspace/alura/c2/avro/\")"
   ]
  }
 ],
 "metadata": {
  "application/vnd.databricks.v1+notebook": {
   "computePreferences": null,
   "dashboards": [],
   "environmentMetadata": {
    "base_environment": "",
    "environment_version": "3"
   },
   "inputWidgetPreferences": null,
   "language": "python",
   "notebookMetadata": {
    "pythonIndentUnit": 4
   },
   "notebookName": "txt",
   "widgets": {}
  },
  "language_info": {
   "name": "python"
  }
 },
 "nbformat": 4,
 "nbformat_minor": 0
}
